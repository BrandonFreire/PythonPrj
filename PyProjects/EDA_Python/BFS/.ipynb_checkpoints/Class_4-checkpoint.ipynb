{
 "cells": [
  {
   "cell_type": "markdown",
   "id": "6afac635-5370-4cd7-9b4c-7850c7e98838",
   "metadata": {},
   "source": [
    "# Grafos\n",
    "\n",
    "## BFS"
   ]
  },
  {
   "cell_type": "code",
   "execution_count": null,
   "id": "11084869-7310-4719-b39f-c0b3f106f339",
   "metadata": {},
   "outputs": [],
   "source": []
  },
  {
   "cell_type": "markdown",
   "id": "026065d2-a3a9-4633-863e-f4b131ded764",
   "metadata": {},
   "source": [
    "\n",
    "Si se crea un diccionario del grafo se deben colocar como claves **todos** los nodos del arbol"
   ]
  },
  {
   "cell_type": "code",
   "execution_count": 4,
   "id": "31673c4b-3a05-4fce-ad16-0ea011bd9cc9",
   "metadata": {},
   "outputs": [],
   "source": [
    "# no se tienen posiciones, por lo que se pueden agregar las claves en cualquier orden\n",
    "grafo = {}\n",
    "grafo[\"you\"] = [\"Bob\", \"Alice\", \"Claire\"]  # es importante mantener el orden de la lista de las values, porque es una lista y y tiene indices\n",
    "grafo[\"Bob\"] = [\"Anuj\", \"Peggy\"]\n",
    "grafo[\"Alice\"] = [\"Peggy\"]\n",
    "grafo[\"Claire\"] = [\"Thom\", \"Johny\"]\n",
    "grafo[\"Anuj\"] = []\n",
    "grafo[\"Peggy\"] = []\n",
    "grafo[\"Thom\"] = []\n",
    "grafo[\"Johny\"] = []"
   ]
  },
  {
   "cell_type": "code",
   "execution_count": 19,
   "id": "53930226-d701-43e9-a900-e03cecd1b8c2",
   "metadata": {},
   "outputs": [],
   "source": [
    "# Padres\n",
    "parents = {\n",
    "\"you\" : \"none\",\n",
    "\"Bob\" : \"you\",\n",
    "\"Claire\": \"you\",\n",
    "\"Alice\" : \"you\",\n",
    "\"Thom\" : \"none\",\n",
    "\"Johny\" : \"none\",\n",
    "\"Peggy\" : \"none\",\n",
    "\"Anuj\" : \"none\"\n",
    "}"
   ]
  },
  {
   "cell_type": "code",
   "execution_count": 17,
   "id": "6fd3e3b4-bd95-41b0-820a-faebf2fea575",
   "metadata": {},
   "outputs": [
    {
     "name": "stdout",
     "output_type": "stream",
     "text": [
      "['Bob', 'Alice', 'Claire']\n"
     ]
    }
   ],
   "source": [
    "print(grafo[\"you\"])"
   ]
  },
  {
   "cell_type": "code",
   "execution_count": 15,
   "id": "b1ad5944-44a0-4dfb-8d8c-90b0576fe6ac",
   "metadata": {},
   "outputs": [
    {
     "name": "stdout",
     "output_type": "stream",
     "text": [
      "Johny\n"
     ]
    }
   ],
   "source": [
    "print(grafo[\"Claire\"][1])"
   ]
  },
  {
   "cell_type": "code",
   "execution_count": 7,
   "id": "e8892682-d9ac-4ff1-ba89-382b7d2794fb",
   "metadata": {},
   "outputs": [
    {
     "data": {
      "text/plain": [
       "dict_values([['Bob', 'Alice', 'Claire'], ['Anuj', 'Peggy'], ['Peggy'], ['Thom', 'Johny'], [], [], [], []])"
      ]
     },
     "execution_count": 7,
     "metadata": {},
     "output_type": "execute_result"
    }
   ],
   "source": [
    "grafo.values() # lista de todos los valores"
   ]
  },
  {
   "cell_type": "code",
   "execution_count": null,
   "id": "259a6672-ecb4-4dea-933f-ad3f081fcbf4",
   "metadata": {},
   "outputs": [],
   "source": [
    "## "
   ]
  }
 ],
 "metadata": {
  "kernelspec": {
   "display_name": "Python 3 (ipykernel)",
   "language": "python",
   "name": "python3"
  },
  "language_info": {
   "codemirror_mode": {
    "name": "ipython",
    "version": 3
   },
   "file_extension": ".py",
   "mimetype": "text/x-python",
   "name": "python",
   "nbconvert_exporter": "python",
   "pygments_lexer": "ipython3",
   "version": "3.12.3"
  }
 },
 "nbformat": 4,
 "nbformat_minor": 5
}
