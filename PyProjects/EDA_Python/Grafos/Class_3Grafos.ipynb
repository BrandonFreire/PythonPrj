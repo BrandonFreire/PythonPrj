{
 "cells": [
  {
   "attachments": {},
   "cell_type": "markdown",
   "id": "27de8d3d-1956-4cc2-ade2-38abc6225554",
   "metadata": {
    "panel-layout": {
     "height": 144.98841857910156,
     "visible": true,
     "width": 100
    }
   },
   "source": [
    "# Grafos\n",
    "- De componen de un conjunto G(V, E) donde V son los vértices y E aristas.\n",
    "  \n",
    "- Conjunto de nodos -> (a, b, c)\n",
    "  \n",
    "- El conjunto de aristas se vería como ((a,b ), (a, c))\r\n",
    "### Propiedades de las aristas:\n",
    "\n",
    "- \n",
    "No solo los nodos almacenan información ya que también lo hacen las aristas. Estas pueden tener un id y como propiedad pueden tener un peso\n",
    "\n",
    "- Lo mas comun es encontrar peso, costo (¿cuanto cuesta en llegar de A a B?)\n"
   ]
  },
  {
   "cell_type": "code",
   "execution_count": 18,
   "id": "72d0a11c-03be-4dc4-8fc3-fe693ddc3c83",
   "metadata": {},
   "outputs": [
    {
     "data": {
      "image/png": "[encoded data removed]",
      "text/plain": [
       "<Figure size 640x480 with 1 Axes>"
      ]
     },
     "metadata": {},
     "output_type": "display_data"
    }
   ],
   "source": [
    "import networkx as nx\n",
    "import matplotlib.pyplot as plt\n",
    "\n",
    "# Crear un grafo vacío\n",
    "G = nx.Graph()\n",
    "\n",
    "# Añadir nodos\n",
    "G.add_nodes_from(['A', 'B', 'C'])\n",
    "\n",
    "# Añadir aristas\n",
    "G.add_edges_from([('A', 'B'), ('A', 'C')])\n",
    "\n",
    "# Dibujar el grafo\n",
    "pos = nx.spring_layout(G)  # Posición de los nodos\n",
    "nx.draw(G, pos, with_labels=True, node_color='skyblue', node_size=2000, font_size=16, font_weight='bold', edge_color='gray')\n",
    "\n",
    "# Mostrar el grafo\n",
    "plt.show()"
   ]
  },
  {
   "cell_type": "markdown",
   "id": "d745c797-d9bc-44d7-a175-c9a6c8a65a85",
   "metadata": {},
   "source": [
    "### Ruta o camino\n",
    "\n",
    "Es un camino entre un par de nodos consecutivos y unidos por una arista\n",
    "\n",
    "Ej:"
   ]
  },
  {
   "cell_type": "code",
   "execution_count": 31,
   "id": "54325b31-57db-4da1-943d-652233970445",
   "metadata": {},
   "outputs": [
    {
     "ename": "ImportError",
     "evalue": "requires pygraphviz http://pygraphviz.github.io/",
     "output_type": "error",
     "traceback": [
      "\u001b[1;31m---------------------------------------------------------------------------\u001b[0m",
      "\u001b[1;31mModuleNotFoundError\u001b[0m                       Traceback (most recent call last)",
      "File \u001b[1;32m~\\anaconda3\\Lib\\site-packages\\networkx\\drawing\\nx_agraph.py:304\u001b[0m, in \u001b[0;36mpygraphviz_layout\u001b[1;34m(G, prog, root, args)\u001b[0m\n\u001b[0;32m    303\u001b[0m \u001b[38;5;28;01mtry\u001b[39;00m:\n\u001b[1;32m--> 304\u001b[0m     \u001b[38;5;28;01mimport\u001b[39;00m \u001b[38;5;21;01mpygraphviz\u001b[39;00m\n\u001b[0;32m    305\u001b[0m \u001b[38;5;28;01mexcept\u001b[39;00m \u001b[38;5;167;01mImportError\u001b[39;00m \u001b[38;5;28;01mas\u001b[39;00m err:\n",
      "\u001b[1;31mModuleNotFoundError\u001b[0m: No module named 'pygraphviz'",
      "\nThe above exception was the direct cause of the following exception:\n",
      "\u001b[1;31mImportError\u001b[0m                               Traceback (most recent call last)",
      "Cell \u001b[1;32mIn[31], line 14\u001b[0m\n\u001b[0;32m     11\u001b[0m G\u001b[38;5;241m.\u001b[39madd_edges_from([(\u001b[38;5;124m'\u001b[39m\u001b[38;5;124mA\u001b[39m\u001b[38;5;124m'\u001b[39m, \u001b[38;5;124m'\u001b[39m\u001b[38;5;124mB\u001b[39m\u001b[38;5;124m'\u001b[39m), (\u001b[38;5;124m'\u001b[39m\u001b[38;5;124mA\u001b[39m\u001b[38;5;124m'\u001b[39m, \u001b[38;5;124m'\u001b[39m\u001b[38;5;124mC\u001b[39m\u001b[38;5;124m'\u001b[39m), (\u001b[38;5;124m'\u001b[39m\u001b[38;5;124mC\u001b[39m\u001b[38;5;124m'\u001b[39m, \u001b[38;5;124m'\u001b[39m\u001b[38;5;124mD\u001b[39m\u001b[38;5;124m'\u001b[39m), (\u001b[38;5;124m'\u001b[39m\u001b[38;5;124mD\u001b[39m\u001b[38;5;124m'\u001b[39m, \u001b[38;5;124m'\u001b[39m\u001b[38;5;124mE\u001b[39m\u001b[38;5;124m'\u001b[39m)])\n\u001b[0;32m     13\u001b[0m \u001b[38;5;66;03m# Dibujar el grafo\u001b[39;00m\n\u001b[1;32m---> 14\u001b[0m pos \u001b[38;5;241m=\u001b[39m nx\u001b[38;5;241m.\u001b[39mnx_agraph\u001b[38;5;241m.\u001b[39mgraphviz_layout(G, prog\u001b[38;5;241m=\u001b[39m\u001b[38;5;124m\"\u001b[39m\u001b[38;5;124mdot\u001b[39m\u001b[38;5;124m\"\u001b[39m)   \u001b[38;5;66;03m# Posición de los nodos\u001b[39;00m\n\u001b[0;32m     15\u001b[0m nx\u001b[38;5;241m.\u001b[39mdraw(G, pos, with_labels\u001b[38;5;241m=\u001b[39m\u001b[38;5;28;01mTrue\u001b[39;00m, node_size\u001b[38;5;241m=\u001b[39m\u001b[38;5;241m2000\u001b[39m, node_color\u001b[38;5;241m=\u001b[39m\u001b[38;5;124m\"\u001b[39m\u001b[38;5;124mskyblue\u001b[39m\u001b[38;5;124m\"\u001b[39m, font_size\u001b[38;5;241m=\u001b[39m\u001b[38;5;241m10\u001b[39m, font_weight\u001b[38;5;241m=\u001b[39m\u001b[38;5;124m\"\u001b[39m\u001b[38;5;124mbold\u001b[39m\u001b[38;5;124m\"\u001b[39m, arrows\u001b[38;5;241m=\u001b[39m\u001b[38;5;28;01mTrue\u001b[39;00m)\n\u001b[0;32m     17\u001b[0m \u001b[38;5;66;03m# Mostrar el grafo\u001b[39;00m\n",
      "File \u001b[1;32m~\\anaconda3\\Lib\\site-packages\\networkx\\drawing\\nx_agraph.py:260\u001b[0m, in \u001b[0;36mgraphviz_layout\u001b[1;34m(G, prog, root, args)\u001b[0m\n\u001b[0;32m    229\u001b[0m \u001b[38;5;28;01mdef\u001b[39;00m \u001b[38;5;21mgraphviz_layout\u001b[39m(G, prog\u001b[38;5;241m=\u001b[39m\u001b[38;5;124m\"\u001b[39m\u001b[38;5;124mneato\u001b[39m\u001b[38;5;124m\"\u001b[39m, root\u001b[38;5;241m=\u001b[39m\u001b[38;5;28;01mNone\u001b[39;00m, args\u001b[38;5;241m=\u001b[39m\u001b[38;5;124m\"\u001b[39m\u001b[38;5;124m\"\u001b[39m):\n\u001b[0;32m    230\u001b[0m \u001b[38;5;250m    \u001b[39m\u001b[38;5;124;03m\"\"\"Create node positions for G using Graphviz.\u001b[39;00m\n\u001b[0;32m    231\u001b[0m \n\u001b[0;32m    232\u001b[0m \u001b[38;5;124;03m    Parameters\u001b[39;00m\n\u001b[1;32m   (...)\u001b[0m\n\u001b[0;32m    258\u001b[0m \u001b[38;5;124;03m    see https://gitlab.com/graphviz/graphviz/-/issues/1767 for more info.\u001b[39;00m\n\u001b[0;32m    259\u001b[0m \u001b[38;5;124;03m    \"\"\"\u001b[39;00m\n\u001b[1;32m--> 260\u001b[0m     \u001b[38;5;28;01mreturn\u001b[39;00m pygraphviz_layout(G, prog\u001b[38;5;241m=\u001b[39mprog, root\u001b[38;5;241m=\u001b[39mroot, args\u001b[38;5;241m=\u001b[39margs)\n",
      "File \u001b[1;32m~\\anaconda3\\Lib\\site-packages\\networkx\\drawing\\nx_agraph.py:306\u001b[0m, in \u001b[0;36mpygraphviz_layout\u001b[1;34m(G, prog, root, args)\u001b[0m\n\u001b[0;32m    304\u001b[0m     \u001b[38;5;28;01mimport\u001b[39;00m \u001b[38;5;21;01mpygraphviz\u001b[39;00m\n\u001b[0;32m    305\u001b[0m \u001b[38;5;28;01mexcept\u001b[39;00m \u001b[38;5;167;01mImportError\u001b[39;00m \u001b[38;5;28;01mas\u001b[39;00m err:\n\u001b[1;32m--> 306\u001b[0m     \u001b[38;5;28;01mraise\u001b[39;00m \u001b[38;5;167;01mImportError\u001b[39;00m(\n\u001b[0;32m    307\u001b[0m         \u001b[38;5;124m\"\u001b[39m\u001b[38;5;124mrequires pygraphviz \u001b[39m\u001b[38;5;124m\"\u001b[39m \u001b[38;5;124m\"\u001b[39m\u001b[38;5;124mhttp://pygraphviz.github.io/\u001b[39m\u001b[38;5;124m\"\u001b[39m\n\u001b[0;32m    308\u001b[0m     ) \u001b[38;5;28;01mfrom\u001b[39;00m \u001b[38;5;21;01merr\u001b[39;00m\n\u001b[0;32m    309\u001b[0m \u001b[38;5;28;01mif\u001b[39;00m root \u001b[38;5;129;01mis\u001b[39;00m \u001b[38;5;129;01mnot\u001b[39;00m \u001b[38;5;28;01mNone\u001b[39;00m:\n\u001b[0;32m    310\u001b[0m     args \u001b[38;5;241m+\u001b[39m\u001b[38;5;241m=\u001b[39m \u001b[38;5;124mf\u001b[39m\u001b[38;5;124m\"\u001b[39m\u001b[38;5;124m-Groot=\u001b[39m\u001b[38;5;132;01m{\u001b[39;00mroot\u001b[38;5;132;01m}\u001b[39;00m\u001b[38;5;124m\"\u001b[39m\n",
      "\u001b[1;31mImportError\u001b[0m: requires pygraphviz http://pygraphviz.github.io/"
     ]
    }
   ],
   "source": [
    "import networkx as nx\n",
    "import matplotlib.pyplot as plt\n",
    "\n",
    "# Crear un grafo vacío\n",
    "G = nx.Graph()\n",
    "\n",
    "# Añadir nodos\n",
    "# G.add_edges_from(['A', 'B', 'C', 'D','E'])\n",
    "\n",
    "# Añadir aristas\n",
    "G.add_edges_from([('A', 'B'), ('A', 'C'), ('C', 'D'), ('D', 'E')])\n",
    "\n",
    "# Dibujar el grafo\n",
    "pos = nx.nx_agraph.graphviz_layout(G, prog=\"dot\")   # Posición de los nodos\n",
    "nx.draw(G, pos, with_labels=True, node_size=2000, node_color=\"skyblue\", font_size=10, font_weight=\"bold\", arrows=True)\n",
    "\n",
    "# Mostrar el grafo\n",
    "plt.show()\n"
   ]
  },
  {
   "cell_type": "markdown",
   "id": "8fd32e9b-93d6-4e6f-b14f-ad1620dd2d60",
   "metadata": {},
   "source": [
    "En este arbol la ruta es a-c-d, para llegar a D.\n",
    "         \n",
    "En en grafo sin pesos se dan saltos.\n",
    "\n",
    "### Grafo dirigido\n",
    "\n",
    "Es un grafo que tiene direccion en sus aristas.\n",
    "\n",
    "En el conjunto se tiene fuente y destino, siendo importante el orden de los nodos en las aristas -> ((1,2), (1,3)). El primer nodo es source y el segundo es targe\n",
    "\n",
    "-> NetworkX: ayuda a desplejar el grafo de forma visual\n",
    "\n",
    "Ej:\n",
    "En las redes sociales, el folowing, es un grafo dirigido porque puede que la otra persona te siga o no.\n",
    "\n",
    "### Grafo no dirigido \n",
    "\n",
    "Sus aristas son reciprocas, apuntan al mismo lado.\n",
    "\n",
    "El orden de los nodos no importa en las aristas. Pero en codigo se debe especificar ((A, B),(B, A))\n",
    "\n",
    "### Conceptos\n",
    "\n",
    "- Path:\n",
    "\n",
    "Se dice una ruta o path es simple cuando los nodos no se repiten en el path\n",
    "\n",
    "- Un ciclo simple en el path:\n",
    "\n",
    "Se necesitan dos o mas nodos. Siendo el nodo de inicio del path el mismo al nodo final.\n",
    "\n",
    "Ej; Se inicia con un nodo X y luego de recorrer otros nodos se termina en el mismo nodo X.\n",
    "\n",
    "- Un ciclo no simple en el path:\n",
    "\n",
    "Se inicia en un nodo, se recorre otros nodos que igual se repiten y se termina en el nodo inicial \n",
    "\n",
    "- grado:\n",
    "\n",
    "Si el grafo es no dirigido entonces para cada uno de los nodos se puede extraer el grado fijandose en el numero de conexiones maxima que tiene cada nodo.\n",
    "\n",
    "Si el grafo es dirigido  entonces se puede extraer el grado del grafo viendo el numero de conexiones validas de cada nodo\n",
    "\n",
    "En grafos digidos se tiene\n",
    "\n",
    "- grado de entrada: que son las flechas/direccioes que entran al nodo \n",
    "\n",
    "- grado de salida\n",
    "\n",
    "En grafos dirigidos el grado del grafo es la suma del grado de entrada y de salida.\n",
    "\n",
    "En grafos no dirigodos con pesos, el grado del grafo sera la suma de sus pesos.\n",
    "\n",
    "- El grado de entrada del grafo con pesos y dirigido "
   ]
  },
  {
   "cell_type": "code",
   "execution_count": 5,
   "id": "c8d9dab8-f38b-4458-9220-4f917095c431",
   "metadata": {},
   "outputs": [
    {
     "ename": "KeyError",
     "evalue": "'D'",
     "output_type": "error",
     "traceback": [
      "\u001b[1;31m---------------------------------------------------------------------------\u001b[0m",
      "\u001b[1;31mKeyError\u001b[0m                                  Traceback (most recent call last)",
      "Cell \u001b[1;32mIn[5], line 30\u001b[0m\n\u001b[0;32m     28\u001b[0m \u001b[38;5;66;03m# Crear el grafo\u001b[39;00m\n\u001b[0;32m     29\u001b[0m G \u001b[38;5;241m=\u001b[39m nx\u001b[38;5;241m.\u001b[39mDiGraph()  \u001b[38;5;66;03m# Grafo dirigido\u001b[39;00m\n\u001b[1;32m---> 30\u001b[0m add_edges(tree, G)\n\u001b[0;32m     32\u001b[0m \u001b[38;5;66;03m# Posiciones de los nodos para que la raíz esté en la parte superior\u001b[39;00m\n\u001b[0;32m     33\u001b[0m pos \u001b[38;5;241m=\u001b[39m nx\u001b[38;5;241m.\u001b[39mmultipartite_layout(G, subset_key\u001b[38;5;241m=\u001b[39m\u001b[38;5;28;01mlambda\u001b[39;00m n: n[\u001b[38;5;241m0\u001b[39m])  \u001b[38;5;66;03m# Usa el primer carácter como clave\u001b[39;00m\n",
      "Cell \u001b[1;32mIn[5], line 26\u001b[0m, in \u001b[0;36madd_edges\u001b[1;34m(tree, graph, parent)\u001b[0m\n\u001b[0;32m     24\u001b[0m \u001b[38;5;28;01mfor\u001b[39;00m child \u001b[38;5;129;01min\u001b[39;00m children:\n\u001b[0;32m     25\u001b[0m     graph\u001b[38;5;241m.\u001b[39madd_edge(node, child)\n\u001b[1;32m---> 26\u001b[0m add_edges({child: tree[child] \u001b[38;5;28;01mfor\u001b[39;00m child \u001b[38;5;129;01min\u001b[39;00m children}, graph)\n",
      "Cell \u001b[1;32mIn[5], line 26\u001b[0m, in \u001b[0;36madd_edges\u001b[1;34m(tree, graph, parent)\u001b[0m\n\u001b[0;32m     24\u001b[0m \u001b[38;5;28;01mfor\u001b[39;00m child \u001b[38;5;129;01min\u001b[39;00m children:\n\u001b[0;32m     25\u001b[0m     graph\u001b[38;5;241m.\u001b[39madd_edge(node, child)\n\u001b[1;32m---> 26\u001b[0m add_edges({child: tree[child] \u001b[38;5;28;01mfor\u001b[39;00m child \u001b[38;5;129;01min\u001b[39;00m children}, graph)\n",
      "\u001b[1;31mKeyError\u001b[0m: 'D'"
     ]
    }
   ],
   "source": [
    "import networkx as nx\n",
    "import matplotlib.pyplot as plt\n",
    "\n",
    "# Definimos el árbol usando un diccionario\n",
    "# Ejemplo de árbol:\n",
    "#       A\n",
    "#      / \\\n",
    "#     B   C\n",
    "#    / \\   \\\n",
    "#   D   E   F\n",
    "\n",
    "tree = {\n",
    "    'A': ['B', 'C'],\n",
    "    'B': ['D', 'E'],\n",
    "    'C': ['F'],\n",
    "    'D': [],\n",
    "    'E': [],\n",
    "    'F': []\n",
    "}\n",
    "\n",
    "# Función para agregar nodos y aristas al grafo\n",
    "def add_edges(tree, graph, parent=None):\n",
    "    for node, children in tree.items():\n",
    "        for child in children:\n",
    "            graph.add_edge(node, child)\n",
    "        add_edges({child: tree[child] for child in children}, graph)\n",
    "\n",
    "# Crear el grafo\n",
    "G = nx.DiGraph()  # Grafo dirigido\n",
    "add_edges(tree, G)\n",
    "\n",
    "# Posiciones de los nodos para que la raíz esté en la parte superior\n",
    "pos = nx.multipartite_layout(G, subset_key=lambda n: n[0])  # Usa el primer carácter como clave\n",
    "\n",
    "# Dibujar el grafo\n",
    "plt.figure(figsize=(8, 6))\n",
    "nx.draw(G, pos, with_labels=True, arrows=True, node_size=2000, node_color='skyblue', font_size=10, font_weight='bold')\n",
    "plt.title('Árbol Representado como Grafo')\n",
    "plt.show()\n"
   ]
  },
  {
   "cell_type": "code",
   "execution_count": 13,
   "id": "9cc62328-58a1-4093-b4e6-0d95c9218164",
   "metadata": {},
   "outputs": [
    {
     "data": {
      "image/png": "[encoded data removed]",
      "text/plain": [
       "<Figure size 800x600 with 1 Axes>"
      ]
     },
     "metadata": {},
     "output_type": "display_data"
    }
   ],
   "source": [
    "import networkx as nx\n",
    "import matplotlib.pyplot as plt\n",
    "\n",
    "# Supongamos que esta es la estructura que genera tu función bfs_tree\n",
    "# generate_tree = bfs_tree(\"CARS\", \"BATF\")  \n",
    "# Ejemplo simulado:\n",
    "generate_tree = {\n",
    "    'CAT': 'CARS',\n",
    "    'CAB': 'CARS',\n",
    "    'MAT': 'CARS',\n",
    "    'BATF': 'CAB',\n",
    "    'BAB': 'BATF'\n",
    "}\n",
    "\n",
    "#primera_clave = next(iter(generate_tree))  # Obtener la primera clave\n",
    "#generate_tree.pop(primera_clave)  # Eliminar la primera clave\n",
    "\n",
    "G = nx.DiGraph()\n",
    "\n",
    "# Agregar los nodos\n",
    "G.add_nodes_from(['CARS', 'CAT', 'CAB', 'MAT', 'BATF', 'BAB'])\n",
    "\n",
    "# Agregar las relaciones al grafo\n",
    "for hijo, padre in generate_tree.items():\n",
    "    G.add_edge(padre, hijo)\n",
    "\n",
    "# Dibujar el grafo con un layout jerárquico\n",
    "plt.figure(figsize=(8, 6))\n",
    "pos = nx.nx_agraph.graphviz_layout(G, prog='dot')  # Layout jerárquico usando graphviz\n",
    "nx.draw(G, pos, with_labels=True, node_size=1500, node_color=\"skyblue\", font_size=12, font_weight=\"bold\", arrows=True)\n",
    "plt.title(\"Árbol de relaciones padre-hijo\")\n",
    "plt.show()"
   ]
  },
  {
   "cell_type": "code",
   "execution_count": 17,
   "id": "a8d20448-efbe-4279-978f-9b7c8dbc1437",
   "metadata": {},
   "outputs": [
    {
     "ename": "NameError",
     "evalue": "name 'bfs_tree' is not defined",
     "output_type": "error",
     "traceback": [
      "\u001b[1;31m---------------------------------------------------------------------------\u001b[0m",
      "\u001b[1;31mNameError\u001b[0m                                 Traceback (most recent call last)",
      "Cell \u001b[1;32mIn[17], line 3\u001b[0m\n\u001b[0;32m      1\u001b[0m \u001b[38;5;28;01mimport\u001b[39;00m \u001b[38;5;21;01mnetworkx\u001b[39;00m \u001b[38;5;28;01mas\u001b[39;00m \u001b[38;5;21;01mnx\u001b[39;00m\n\u001b[0;32m      2\u001b[0m \u001b[38;5;28;01mimport\u001b[39;00m \u001b[38;5;21;01mmatplotlib\u001b[39;00m\u001b[38;5;21;01m.\u001b[39;00m\u001b[38;5;21;01mpyplot\u001b[39;00m \u001b[38;5;28;01mas\u001b[39;00m \u001b[38;5;21;01mplt\u001b[39;00m\n\u001b[1;32m----> 3\u001b[0m generate_tree \u001b[38;5;241m=\u001b[39m bfs_tree(\u001b[38;5;124m\"\u001b[39m\u001b[38;5;124mCARS\u001b[39m\u001b[38;5;124m\"\u001b[39m, \u001b[38;5;124m\"\u001b[39m\u001b[38;5;124mBATF\u001b[39m\u001b[38;5;124m\"\u001b[39m)\n\u001b[0;32m      6\u001b[0m primera_clave \u001b[38;5;241m=\u001b[39m \u001b[38;5;28mnext\u001b[39m(\u001b[38;5;28miter\u001b[39m(generate_tree))  \u001b[38;5;66;03m# Obtener la primera clave\u001b[39;00m\n\u001b[0;32m      7\u001b[0m generate_tree\u001b[38;5;241m.\u001b[39mpop(primera_clave)  \u001b[38;5;66;03m# Eliminar la primera clave\u001b[39;00m\n",
      "\u001b[1;31mNameError\u001b[0m: name 'bfs_tree' is not defined"
     ]
    }
   ],
   "source": [
    "import networkx as nx\n",
    "import matplotlib.pyplot as plt\n",
    "generate_tree = bfs_tree(\"CARS\", \"BATF\")\n",
    "\n",
    "\n",
    "primera_clave = next(iter(generate_tree))  # Obtener la primera clave\n",
    "generate_tree.pop(primera_clave)  # Eliminar la primera clave\n",
    "\n",
    "#print(generate_tree)\n",
    "\n",
    "G = nx.DiGraph()\n",
    "\n",
    "G.add_nodes_from(['CARS', 'CAT', 'CAB', 'MAT', 'BATF', 'BAB'])\n",
    "\n",
    "# Agregar las relaciones al grafo\n",
    "for hijo, padre in generate_tree.items():\n",
    "    G.add_edge(padre, hijo)\n",
    "\n",
    "# Dibujar el grafo con un layout jerárquico\n",
    "plt.figure(figsize=(8, 6))\n",
    "pos = nx.spring_layout(G)  # Puedes probar con layouts como 'spring_layout' o 'shell_layout'\n",
    "nx.draw(G, pos, with_labels=True, node_size=1500, node_color=\"skyblue\", font_size=12, font_weight=\"bold\", arrows=True)\n",
    "plt.title(\"Árbol de relaciones padre-hijo\")\n",
    "plt.show()"
   ]
  }
 ],
 "metadata": {
  "kernelspec": {
   "display_name": "Python 3 (ipykernel)",
   "language": "python",
   "name": "python3"
  },
  "language_info": {
   "codemirror_mode": {
    "name": "ipython",
    "version": 3
   },
   "file_extension": ".py",
   "mimetype": "text/x-python",
   "name": "python",
   "nbconvert_exporter": "python",
   "pygments_lexer": "ipython3",
   "version": "3.12.3"
  },
  "panel-cell-order": [
   "27de8d3d-1956-4cc2-ade2-38abc6225554"
  ]
 },
 "nbformat": 4,
 "nbformat_minor": 5
}
