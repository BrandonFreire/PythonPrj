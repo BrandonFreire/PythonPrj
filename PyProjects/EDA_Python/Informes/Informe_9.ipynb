{
 "cells": [
  {
   "cell_type": "raw",
   "metadata": {
    "vscode": {
     "languageId": "raw"
    }
   },
   "source": [
    "---\n",
    "tittle: \"Informe N° 9\"\n",
    "author: \"Ismael Freire\"\n",
    "lang: es\n",
    "format:\n",
    "  pdf:\n",
    "    toc: true\n",
    "    toc-title: \"Tabla de contenidos\"    \n",
    "execute:\n",
    "   echo: true\n",
    "   error: false\n",
    "   warning: false\n",
    "jupyter: python3\n",
    "---"
   ]
  },
  {
   "cell_type": "markdown",
   "metadata": {},
   "source": [
    "# Escuela Politécnica Nacional | EDA II - Informe N° 9"
   ]
  },
  {
   "cell_type": "markdown",
   "metadata": {
    "vscode": {
     "languageId": "raw"
    }
   },
   "source": [
    "## 1. Objetivos\n",
    "\n",
    "- Explicar el funcionamiento teórico del algoritmo de Fuerza Bruta y del algoritmo KMP en la búsqueda de patrones dentro de cadenas de texto.\n",
    "\n",
    "- Identificar las ventajas y desventajas del algoritmo KMP respecto al algoritmo de Fuerza Bruta.\n",
    "\n",
    "- Representar de forma detallada y paso a paso el desplazamiento del patrón respecto al texto durante la ejecución del algoritmo de Fuerza Bruta y KMP.\n",
    "\n",
    "- Realizar pruebas de escritorio para ambos algoritmos, mostrando los cambios en las variables clave en cada iteración.\n",
    "\n",
    "## 2. Introducción\n",
    "\n",
    "En el ámbito del procesamiento de texto, los algoritmos de Pattern Matching desempeñan un papel fundamental en la búsqueda y localización de patrones dentro de cadenas de texto. Estas técnicas son esenciales en diversas aplicaciones, como la búsqueda en documentos, el análisis de datos biológicos, la detección de plagio y la compresión de datos. Este informe se centra en el estudio comparativo de dos algoritmos ampliamente utilizados: el algoritmo de Fuerza Bruta y el algoritmo Knuth-Morris-Pratt (KMP).\n",
    "\n",
    "El algoritmo de Fuerza Bruta es el método más intuitivo y sencillo para resolver problemas de coincidencia de patrones. Consiste en recorrer secuencialmente la cadena de texto comparando el patrón con todas las posibles posiciones, lo que puede llevar a una complejidad temporal considerable en casos de textos extensos o patrones repetitivos. Su naturaleza secuencial implica realizar comparaciones exhaustivas en todas las posiciones posibles del texto, lo que puede llevar a un tiempo de ejecución cuadrático 𝑂(𝑛^2) en el peor de los casos.\n",
    "\n",
    "\n",
    "Por otro lado, el algoritmo KMP utiliza un array de prefijos conocido como la tabla LPS (Longest Prefix Suffix) que permite almacenar información sobre las repeticiones parciales del patrón. Esta tabla facilita que, cuando una comparación falla, el algoritmo pueda evitar retrocesos innecesarios en el texto y el patrón, logrando un desplazamiento más eficiente. Gracias a esta estrategia, el algoritmo KMP garantiza un tiempo de ejecución lineal 𝑂(𝑛+𝑚), donde 𝑛 es la longitud del texto y 𝑚 la longitud del patrón.\n",
    "\n",
    "El propósito de este informe es analizar el funcionamiento de ambos algoritmos, destacando sus diferencias en aplicabilidad. Para ello, se realizarán ejercicios manuales en los que se mostrará, de forma detallada, cómo el patrón se desplaza respecto al texto en cada iteración y se llevará a cabo una prueba de escritorio que evidencie los cambios en las variables durante la ejecución. \n",
    "\n",
    "De esta manera, se pretende proporcionar una comprensión profunda y visual del comportamiento de ambos algoritmos, identificando sus ventajas y desventajas. Finalmente, se extraerán conclusiones sobre la eficiencia de los algoritmos y sobre las situaciones en las que el uso del algoritmo KMP resulta más favorable y eficiente que la solución de Fuerza Bruta.\n",
    "\n",
    "## 3. Ejercicios planteados y/o programas implementados\n",
    "\n",
    "### Haga los siguientes ejercicios de la forma manual, donde se aprecie:  i) cómo el patrón se desplaza respecto al texto, y ii) la prueba de escritorio (cambio de valores en variables) con la ejecución del algoritmo correspondiente. Puede hacer las capturas de pantalla o scanning con las debidas resoluciones y añadir las imágenes a su archivo pdf de informe.\n",
    "\n",
    "### 1. Aplique el algoritmo de Brute Force para tareas de pattern matching. Pruebe con: a) T = \"ADDDCCADBCAADADC\", P = \"AD\",  b) T = \"ABDDCCABCCAABCB\", P = \"ABC\", y c) T = \"ABDDCCABB\", P = \"CCD\""
   ]
  },
  {
   "cell_type": "markdown",
   "metadata": {},
   "source": []
  },
  {
   "cell_type": "markdown",
   "metadata": {
    "vscode": {
     "languageId": "raw"
    }
   },
   "source": [
    "### 2. Aplique el algoritmo Knuth-Morris-Pratt con la asistencia de la función \"failure\". Coloque 1 ejemplo con coincidencia entre T y P y 1 ejemplo más sin coincidencia."
   ]
  },
  {
   "cell_type": "markdown",
   "metadata": {},
   "source": []
  },
  {
   "cell_type": "markdown",
   "metadata": {},
   "source": [
    "## 4. Conclusiones\n",
    "\n",
    "En el presente informe se analizaron y compararon dos algoritmos de Pattern Matching: el algoritmo de Fuerza Bruta y el algoritmo Knuth-Morris-Pratt (KMP). A través del desarrollo de ejercicios manuales y pruebas de escritorio, se evidenciaron las diferencias fundamentales entre ambos métodos, tanto en su funcionamiento como en su eficiencia\n",
    "\n",
    "El algoritmo de Fuerza Bruta, aunque sencillo y de fácil implementación, presenta limitaciones significativas en términos de rendimiento, especialmente en textos largos o patrones con repeticiones. En contraste, el algoritmo KMP demostró ser una solución más eficiente al evitar comparaciones redundantes mediante el uso de la tabla LPS (Longest Prefix Suffix). Como resultado, el algoritmo KMP garantiza un tiempo de ejecución lineal, lo que lo hace particularmente efectivo en escenarios donde el patrón contiene subestructuras repetitivas.\n",
    "\n",
    "Los ejercicios manuales realizados permitieron visualizar de manera detallada cómo el patrón se desplaza respecto al texto en cada iteración y cómo varían las variables involucradas en ambos algoritmos. En el caso del algoritmo KMP, se observó que el preprocesamiento del patrón mediante la tabla LPS es clave para reducir el número de comparaciones y evitar retrocesos innecesarios.\n",
    "\n",
    "En conclusión, el algoritmo KMP es más eficiente que la Fuerza Bruta en términos de complejidad y rendimiento, especialmente cuando se trabaja con grandes volúmenes de texto y patrones con características repetitivas. No obstante, la Fuerza Bruta sigue siendo una alternativa válida para problemas pequeños o cuando no se requiere una optimización avanzada. La elección entre ambos algoritmos dependerá de los requerimientos específicos del problema y de las características de los datos a procesar.\n",
    "\n",
    "Finalmente, este análisis permitió entender de manera profunda el funcionamiento interno de los algoritmos, destacando la importancia de optimizar procesos en aplicaciones de búsqueda y procesamiento de texto, donde la eficiencia en términos de tiempo es un factor crítico.\n",
    "\n",
    "## 5. Referencias bibliográficas\n",
    "\n",
    "[1] Python Software Foundation. (2023). The Python Standard Library. En Python Documentation (versión 3.11). Disponible en https://docs.python.org/3/.\n",
    "\n",
    "[2] GeeksforGeeks. (2023). KMP algorithm for pattern searching. Recuperado de: https://www.geeksforgeeks.org/kmp-algorithm-for-pattern-searching.\n",
    "\n",
    "## 6. Declaración uso de IA\n",
    "\n",
    "Promps:\n",
    "\n",
    "1. \"Explica cómo funciona el algoritmo Knuth-Morris-Pratt (KMP) en búsqueda de patrones en texto, haciendo énfasis en la tabla LPS y cómo optimiza el proceso.\"\n",
    "\n",
    "2. \"Resume las diferencias entre el algoritmo de Fuerza Bruta y el algoritmo KMP en términos de complejidad temporal, implementación y rendimiento.\"\n",
    "\n",
    "3. \"Describe paso a paso cómo se desplaza un patrón en un texto durante la ejecución del algoritmo de Fuerza Bruta y KMP, utilizando ejemplos simples.\"\n",
    "\n",
    "4. \"Menciona posibles aplicaciones reales de los algoritmos de Fuerza Bruta y KMP en búsqueda de patrones dentro de procesamiento de texto.\""
   ]
  }
 ],
 "metadata": {
  "kernelspec": {
   "display_name": "base",
   "language": "python",
   "name": "python3"
  },
  "language_info": {
   "codemirror_mode": {
    "name": "ipython",
    "version": 3
   },
   "file_extension": ".py",
   "mimetype": "text/x-python",
   "name": "python",
   "nbconvert_exporter": "python",
   "pygments_lexer": "ipython3",
   "version": "3.12.3"
  }
 },
 "nbformat": 4,
 "nbformat_minor": 2
}
