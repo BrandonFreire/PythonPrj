{
 "cells": [
  {
   "cell_type": "raw",
   "metadata": {
    "vscode": {
     "languageId": "raw"
    }
   },
   "source": [
    "---\n",
    "tittle: \"Informe 6\"\n",
    "author: \"Ismael Freire\"\n",
    "lang: es\n",
    "format:\n",
    "  pdf:\n",
    "    toc: true\n",
    "    toc-title: \"Tabla de contenidos\"\n",
    "execute:\n",
    "   echo: true\n",
    "   error: false\n",
    "   warning: false\n",
    "jupyter: python3\n",
    "link-citations: true\n",
    "---"
   ]
  },
  {
   "cell_type": "markdown",
   "metadata": {
    "vscode": {
     "languageId": "raw"
    }
   },
   "source": [
    "| ESCUELA POLITÉCNICA NACIONAL  |                              | **Proyecto** |\n",
    "|-------------------------------|------------------------------|--------------|\n",
    "| **Estructuras de Datos y Algoritmos II – Computación**     | |       1      |\n",
    "| NOMBRES: Brandon Ismael Freire|                              |              |\n",
    "\n",
    "### 1. Objetivos\n",
    "\n",
    "-\n",
    "\n",
    "-\n",
    "\n",
    "## 2. Introducción"
   ]
  }
 ],
 "metadata": {
  "kernelspec": {
   "display_name": "Python 3",
   "language": "python",
   "name": "python3"
  },
  "language_info": {
   "codemirror_mode": {
    "name": "ipython",
    "version": 3
   },
   "file_extension": ".py",
   "mimetype": "text/x-python",
   "name": "python",
   "nbconvert_exporter": "python",
   "pygments_lexer": "ipython3",
   "version": "3.12.5"
  }
 },
 "nbformat": 4,
 "nbformat_minor": 2
}
