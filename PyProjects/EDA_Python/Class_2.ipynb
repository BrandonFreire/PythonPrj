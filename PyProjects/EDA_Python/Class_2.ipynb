{
 "cells": [
  {
   "cell_type": "code",
   "execution_count": 13,
   "id": "0f30c8f3-7bc7-4812-af1d-9dc329663820",
   "metadata": {},
   "outputs": [],
   "source": [
    "def calcular_x(numeros):\n",
    "    resultado = []\n",
    "    for item in numeros:\n",
    "        if item%2==0:\n",
    "            resultado.append(item)\n",
    "    return resultado, item"
   ]
  },
  {
   "cell_type": "code",
   "execution_count": 9,
   "id": "d805c668-62e7-49ac-9db8-ac7f0bff3701",
   "metadata": {},
   "outputs": [
    {
     "data": {
      "text/plain": [
       "([2, 4, 6], 6)"
      ]
     },
     "execution_count": 9,
     "metadata": {},
     "output_type": "execute_result"
    }
   ],
   "source": [
    "calcular_x([1,2,3,4,5,6])"
   ]
  },
  {
   "cell_type": "code",
   "execution_count": 17,
   "id": "4a513255-7c6a-4fb1-9475-94db50ea78d7",
   "metadata": {},
   "outputs": [
    {
     "name": "stdout",
     "output_type": "stream",
     "text": [
      "[2, 4] 9\n"
     ]
    }
   ],
   "source": [
    "lista, item = calcular_x([1,2,4,5,7,9])\n",
    "print(lista, item)"
   ]
  },
  {
   "cell_type": "code",
   "execution_count": 21,
   "id": "311c1423-6f18-450b-83df-65455ae329b9",
   "metadata": {},
   "outputs": [],
   "source": [
    "def calcular_xx(numeros): # la funciona toma como parametro una lista\n",
    "    resultado = [item for item in numeros if item%2==0] # lo que se tiene antes del for se guarda en la lista\n",
    "    return resultado "
   ]
  },
  {
   "cell_type": "code",
   "execution_count": 23,
   "id": "bdef42ec-8d2e-46bd-bb98-9b1085b13f7b",
   "metadata": {},
   "outputs": [
    {
     "data": {
      "text/plain": [
       "[2, 4]"
      ]
     },
     "execution_count": 23,
     "metadata": {},
     "output_type": "execute_result"
    }
   ],
   "source": [
    "calcular_xx([1,2,3,4,5,7])\n"
   ]
  },
  {
   "cell_type": "code",
   "execution_count": 33,
   "id": "c3631211-77b2-46d2-b1ad-0195e9aa98f4",
   "metadata": {},
   "outputs": [
    {
     "name": "stdout",
     "output_type": "stream",
     "text": [
      "[2, 4, 6, 8, 10, 12, 14, 16, 18]\n"
     ]
    }
   ],
   "source": [
    "dobles=[]\n",
    "#primera forma\n",
    "for i in range(1,10):\n",
    "    dobles.append(i*2)\n",
    "# segunda forma\n",
    "dobles = [i*2 for i in range(1,10)]\n",
    "print(dobles)"
   ]
  },
  {
   "cell_type": "code",
   "execution_count": null,
   "id": "361230bd-7e30-4bf5-b45a-ee9bdf858c13",
   "metadata": {},
   "outputs": [],
   "source": []
  }
 ],
 "metadata": {
  "kernelspec": {
   "display_name": "Python 3 (ipykernel)",
   "language": "python",
   "name": "python3"
  },
  "language_info": {
   "codemirror_mode": {
    "name": "ipython",
    "version": 3
   },
   "file_extension": ".py",
   "mimetype": "text/x-python",
   "name": "python",
   "nbconvert_exporter": "python",
   "pygments_lexer": "ipython3",
   "version": "3.12.3"
  }
 },
 "nbformat": 4,
 "nbformat_minor": 5
}
