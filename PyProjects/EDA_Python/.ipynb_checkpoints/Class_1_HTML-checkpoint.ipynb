{
 "cells": [
  {
   "cell_type": "raw",
   "id": "1bf33896-bef5-4920-b2e6-4e334c7c7e3b",
   "metadata": {},
   "source": [
    "---\n",
    "tittle: \"Class 1 HTML\"\n",
    "author: \"Ismael Freire\"\n",
    "date: \"10/05/2024\"\n",
    "lang: es\n",
    "format:\n",
    "  html:\n",
    "    theme: cosmo\n",
    "    code-fold: true\n",
    "    code-sumary: \"Show the code\"\n",
    "    toc: true\n",
    "    toc-title: \"Tabla de contenidos\"\n",
    "    html-math-method: katex\n",
    "jupyter: python3\n",
    "bibliography: ref.bib\n",
    "link-citations: true\n",
    "---"
   ]
  },
  {
   "cell_type": "markdown",
   "id": "b5092a2a-b478-4130-9e26-4ba424d444da",
   "metadata": {
    "panel-layout": {
     "height": 60.60185241699219,
     "visible": true,
     "width": 100
    }
   },
   "source": [
    "# Class 1\n",
    "Para renderizar en HTML\n",
    "ej de cita, este texto a sido consultado en [@thirunavukarasu2023large]"
   ]
  },
  {
   "cell_type": "code",
   "execution_count": 3,
   "id": "119ce737-418e-4e4c-95a9-75fddbf54e4f",
   "metadata": {
    "panel-layout": {
     "height": 0,
     "visible": true,
     "width": 100
    }
   },
   "outputs": [
    {
     "name": "stdout",
     "output_type": "stream",
     "text": [
      "hola Python\n"
     ]
    }
   ],
   "source": [
    "print(\"hola Python\")"
   ]
  },
  {
   "cell_type": "markdown",
   "id": "45cb0daf-dd18-4a69-b99a-fe467a4ced35",
   "metadata": {
    "panel-layout": {
     "height": 97.39582824707031,
     "visible": true,
     "width": 100
    }
   },
   "source": [
    "Las ejecuciones de pueden realizar con:\n",
    "- shift + enter\n",
    "- ctrl  + enter"
   ]
  },
  {
   "cell_type": "markdown",
   "id": "57c534df-092a-48eb-8a72-b4c2a14b6f3c",
   "metadata": {},
   "source": [
    "## Dinamic type"
   ]
  },
  {
   "cell_type": "code",
   "execution_count": 5,
   "id": "bd0a6d43-d28e-40c2-b0d0-b4a6b2f181c2",
   "metadata": {},
   "outputs": [],
   "source": [
    "string = \"Hola soy piton\"\n",
    "lista = [1, 2, 2, \"hola\"]"
   ]
  },
  {
   "cell_type": "code",
   "execution_count": 7,
   "id": "f8a7b2e2-606a-4bf2-9ee8-4f11593a2484",
   "metadata": {},
   "outputs": [
    {
     "data": {
      "text/plain": [
       "[1, 2, 2, 'hola']"
      ]
     },
     "execution_count": 7,
     "metadata": {},
     "output_type": "execute_result"
    }
   ],
   "source": [
    "lista"
   ]
  },
  {
   "cell_type": "code",
   "execution_count": 9,
   "id": "d14730cf-23d1-4203-8525-4aaa2117b288",
   "metadata": {},
   "outputs": [],
   "source": [
    "lista = \"hola\""
   ]
  },
  {
   "cell_type": "code",
   "execution_count": 11,
   "id": "360f26c1-95a3-4f84-aafe-d0b4fa33eaa8",
   "metadata": {},
   "outputs": [
    {
     "data": {
      "text/plain": [
       "'hola'"
      ]
     },
     "execution_count": 11,
     "metadata": {},
     "output_type": "execute_result"
    }
   ],
   "source": [
    "lista"
   ]
  },
  {
   "cell_type": "code",
   "execution_count": 13,
   "id": "0b78dccd-821c-4654-8ba1-909757de1fc8",
   "metadata": {},
   "outputs": [
    {
     "data": {
      "text/plain": [
       "str"
      ]
     },
     "execution_count": 13,
     "metadata": {},
     "output_type": "execute_result"
    }
   ],
   "source": [
    "type(lista)"
   ]
  },
  {
   "cell_type": "markdown",
   "id": "0221b4cc-654c-43ca-9910-d972f98ff7cf",
   "metadata": {},
   "source": [
    "## Ayuda de Python"
   ]
  },
  {
   "cell_type": "code",
   "execution_count": 15,
   "id": "d4dcd96b-aaf3-42e7-acc0-b455b10d8e2b",
   "metadata": {},
   "outputs": [
    {
     "data": {
      "text/plain": [
       "\u001b[1;31mType:\u001b[0m        str\n",
       "\u001b[1;31mString form:\u001b[0m hola\n",
       "\u001b[1;31mLength:\u001b[0m      4\n",
       "\u001b[1;31mDocstring:\u001b[0m  \n",
       "str(object='') -> str\n",
       "str(bytes_or_buffer[, encoding[, errors]]) -> str\n",
       "\n",
       "Create a new string object from the given object. If encoding or\n",
       "errors is specified, then the object must expose a data buffer\n",
       "that will be decoded using the given encoding and error handler.\n",
       "Otherwise, returns the result of object.__str__() (if defined)\n",
       "or repr(object).\n",
       "encoding defaults to sys.getdefaultencoding().\n",
       "errors defaults to 'strict'."
      ]
     },
     "metadata": {},
     "output_type": "display_data"
    }
   ],
   "source": [
    "lista?"
   ]
  },
  {
   "cell_type": "code",
   "execution_count": 17,
   "id": "95adef42-f023-4459-bc88-0d2cee119f7b",
   "metadata": {},
   "outputs": [
    {
     "data": {
      "text/plain": [
       "\u001b[1;31mType:\u001b[0m        str\n",
       "\u001b[1;31mString form:\u001b[0m Hola soy piton\n",
       "\u001b[1;31mLength:\u001b[0m      14\n",
       "\u001b[1;31mDocstring:\u001b[0m  \n",
       "str(object='') -> str\n",
       "str(bytes_or_buffer[, encoding[, errors]]) -> str\n",
       "\n",
       "Create a new string object from the given object. If encoding or\n",
       "errors is specified, then the object must expose a data buffer\n",
       "that will be decoded using the given encoding and error handler.\n",
       "Otherwise, returns the result of object.__str__() (if defined)\n",
       "or repr(object).\n",
       "encoding defaults to sys.getdefaultencoding().\n",
       "errors defaults to 'strict'."
      ]
     },
     "metadata": {},
     "output_type": "display_data"
    }
   ],
   "source": [
    "string?"
   ]
  },
  {
   "cell_type": "code",
   "execution_count": 19,
   "id": "1c062a1e-43aa-46e6-add9-c96d3249eeb0",
   "metadata": {},
   "outputs": [],
   "source": [
    "lista = [1, 2, 3, 4, 5]"
   ]
  },
  {
   "cell_type": "code",
   "execution_count": 21,
   "id": "c583e260-f90d-48db-b0ca-5aff2e5d6789",
   "metadata": {},
   "outputs": [
    {
     "data": {
      "text/plain": [
       "\u001b[1;31mSignature:\u001b[0m \u001b[0mlista\u001b[0m\u001b[1;33m.\u001b[0m\u001b[0mpop\u001b[0m\u001b[1;33m(\u001b[0m\u001b[0mindex\u001b[0m\u001b[1;33m=\u001b[0m\u001b[1;33m-\u001b[0m\u001b[1;36m1\u001b[0m\u001b[1;33m,\u001b[0m \u001b[1;33m/\u001b[0m\u001b[1;33m)\u001b[0m\u001b[1;33m\u001b[0m\u001b[1;33m\u001b[0m\u001b[0m\n",
       "\u001b[1;31mDocstring:\u001b[0m\n",
       "Remove and return item at index (default last).\n",
       "\n",
       "Raises IndexError if list is empty or index is out of range.\n",
       "\u001b[1;31mType:\u001b[0m      builtin_function_or_method"
      ]
     },
     "metadata": {},
     "output_type": "display_data"
    }
   ],
   "source": [
    "lista.pop?"
   ]
  },
  {
   "cell_type": "markdown",
   "id": "342bc702-187d-4404-a036-f49942fb162d",
   "metadata": {},
   "source": [
    "La funcion pop sin parametros indica que se elimina y se retorna el ultimo elemento de la lista"
   ]
  },
  {
   "cell_type": "code",
   "execution_count": 23,
   "id": "54dc9609-74f1-4f2a-b887-af43d6e0cd9b",
   "metadata": {},
   "outputs": [
    {
     "data": {
      "text/plain": [
       "5"
      ]
     },
     "execution_count": 23,
     "metadata": {},
     "output_type": "execute_result"
    }
   ],
   "source": [
    "lista.pop()"
   ]
  },
  {
   "cell_type": "code",
   "execution_count": 25,
   "id": "910296ac-66f7-4549-adca-a06360907c76",
   "metadata": {},
   "outputs": [
    {
     "data": {
      "text/plain": [
       "[1, 2, 3, 4]"
      ]
     },
     "execution_count": 25,
     "metadata": {},
     "output_type": "execute_result"
    }
   ],
   "source": [
    "lista"
   ]
  },
  {
   "cell_type": "markdown",
   "id": "13a7f8f3-6397-4a7d-9718-5bb042063ed5",
   "metadata": {},
   "source": [
    "## Uso del tab\n",
    "Se coloca las primeras letras de una funcion, si no se recuerda completamente esta, unicamente presionando el boton tab se obtienen todas las posibles coincidencias. \n",
    "## Diccionarios\n",
    "Las busquedas en los diccionarios se dan a travez de las claves."
   ]
  },
  {
   "cell_type": "code",
   "execution_count": 27,
   "id": "d43f153a-7c6b-4b71-80dc-9f197de70267",
   "metadata": {},
   "outputs": [
    {
     "name": "stdout",
     "output_type": "stream",
     "text": [
      "{'nombre': 'Juan Dias', 'edad': '30'}\n"
     ]
    }
   ],
   "source": [
    "dic = {\"nombre\":\"Juan Dias\", \"edad\":\"30\"}\n",
    "print(dic)"
   ]
  },
  {
   "cell_type": "code",
   "execution_count": 29,
   "id": "ffbdd44d-77c4-449a-8a75-eed1fad77704",
   "metadata": {},
   "outputs": [
    {
     "data": {
      "text/plain": [
       "'30'"
      ]
     },
     "execution_count": 29,
     "metadata": {},
     "output_type": "execute_result"
    }
   ],
   "source": [
    "dic[\"edad\"]"
   ]
  },
  {
   "cell_type": "markdown",
   "id": "d092c4dd-edaa-42ea-aaa2-57b40f326af0",
   "metadata": {},
   "source": [
    ".keys() -> devuelve todas las claves del diccionario"
   ]
  },
  {
   "cell_type": "code",
   "execution_count": 31,
   "id": "52396080-9979-4570-97b3-a53680f1ee06",
   "metadata": {},
   "outputs": [
    {
     "data": {
      "text/plain": [
       "dict_keys(['nombre', 'edad'])"
      ]
     },
     "execution_count": 31,
     "metadata": {},
     "output_type": "execute_result"
    }
   ],
   "source": [
    "dic.keys()"
   ]
  },
  {
   "cell_type": "markdown",
   "id": "80090ce9-4071-4e1e-9932-9e9d096f92e6",
   "metadata": {},
   "source": [
    "## Renderizado del md\n",
    "quarto render name_archivo.ipynb"
   ]
  }
 ],
 "metadata": {
  "kernelspec": {
   "display_name": "Python 3 (ipykernel)",
   "language": "python",
   "name": "python3"
  },
  "language_info": {
   "codemirror_mode": {
    "name": "ipython",
    "version": 3
   },
   "file_extension": ".py",
   "mimetype": "text/x-python",
   "name": "python",
   "nbconvert_exporter": "python",
   "pygments_lexer": "ipython3",
   "version": "3.12.4"
  },
  "panel-cell-order": [
   "b5092a2a-b478-4130-9e26-4ba424d444da",
   "119ce737-418e-4e4c-95a9-75fddbf54e4f",
   "45cb0daf-dd18-4a69-b99a-fe467a4ced35"
  ]
 },
 "nbformat": 4,
 "nbformat_minor": 5
}
