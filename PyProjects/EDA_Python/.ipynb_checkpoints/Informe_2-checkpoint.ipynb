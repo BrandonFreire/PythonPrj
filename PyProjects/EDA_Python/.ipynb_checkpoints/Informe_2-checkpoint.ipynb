{
 "cells": [
  {
   "cell_type": "raw",
   "id": "22314c2a-137e-4869-b03f-fe862f47448e",
   "metadata": {},
   "source": [
    "---\n",
    "tittle: \"Informe 2\"\n",
    "author: \"Ismael Freire\"\n",
    "lang: es\n",
    "format:\n",
    "  pdf:\n",
    "    toc: true\n",
    "    toc-title: \"Tabla de contenidos\"\n",
    "execute:\n",
    "   echo: true\n",
    "   error: false\n",
    "   warning: false\n",
    "jupyter: python3\n",
    "link-citations: true\n",
    "---"
   ]
  },
  {
   "cell_type": "markdown",
   "id": "30ca10df-a433-4dd9-8b67-bc90c8d3cabb",
   "metadata": {},
   "source": [
    "# Escuela Politécnica Nacional | EDA II-Informe N°2"
   ]
  },
  {
   "cell_type": "markdown",
   "id": "41a5e193-5232-4ac5-b24d-af288bb45cdb",
   "metadata": {},
   "source": [
    "### 1. Objetivos\n",
    "\n",
    "- Implementar funciones, listas, diccionarios, y estructuras de control de decisión y repetición para resolver problemas de manera eficiente y estructurada.\n",
    "\n",
    "- Desarrollar un programa en Python que permita gestionar una lista de tareas de una fiesta, indicando qué actividades han sido completadas y ocultándolas de la lista.\n",
    "  \n",
    "- Crear un programa que analice los gastos mensuales de papelería de una empresa, identificando el mayor y menor gasto, así como calculando el promedio anual."
   ]
  },
  {
   "cell_type": "markdown",
   "id": "2fb43314-dbbb-4727-b937-ee9a80656b1e",
   "metadata": {},
   "source": [
    "### 2. Introducción\n",
    "\n",
    "En el presente informe se tratarán dos problemas prácticos, el primero de ellos consiste en gestionar una lista de actividades para la organización de un evento, donde el usuario es capaz de añadir, marcar la actividad como check o pendiente y actualizar la lista en consecuencia. El segundo se enfoca en el gasto mensual de una papelería donde se debe identificar los meses con mayor y menor gasto, asi como calcular el promedio anual.\n",
    "\n",
    "Ambos programas implementan estructuras de control como listas, diccionarios y ciclos, las cuales permiten dirigir el flujo de ejecución del programa de manera adecuada. Además, tanto las listas como diccionarios que son estructuras clave para el almacenamiento y gestión de elementos permiten un correcto desarrollo de los problemas que se han planteado."
   ]
  },
  {
   "cell_type": "markdown",
   "id": "8b685eed-7a62-4594-8390-a8a828d541b2",
   "metadata": {},
   "source": [
    "### 3. Ejercicios planteados y/o programas implementados"
   ]
  },
  {
   "cell_type": "markdown",
   "id": "710bd558-4fd9-492d-a995-fb6359799011",
   "metadata": {},
   "source": [
    "- Ejercicio 1: Tienes una fiesta y haces una lista de tipo “TO-DOs” para preparar todas las actividades, como por ejemplo: “bebidas”, “desechables”, “parlantes”, “globos”, etc. Has un programa que barra la lista de actividad en actividad y tú puedas indicar si está listo o no (check o no). Si hay una actividad con “check”, que ya no se muestre la próxima vez que revisas tu lista de TO-DOs"
   ]
  },
  {
   "cell_type": "markdown",
   "id": "68618448-c3c0-4108-b8bb-3e0abdbc8da3",
   "metadata": {},
   "source": [
    "Para el desarrollo de esta pregunta se usaron tres funciones que permitieron manejar una lista de actividades. \n",
    "\n",
    "Primero se tiene a *llenar_dict ()*, que es la función encargada de crear un diccionario en la que cada clave es una actividad y su valor asociado es \"pendiente\". Se inicia con un diccionario vacío *dic_full*, luego con un bucle *for* el usuario ingresa tantas actividades como ha especificado *num_activities* . Seguidamente, a cada actividad ingresada se le asigna un valor por defecto \"pendiente\" y después de llenar el diccionario, se imprimen las actividades ingresadas y se lo retorna con las actividades y su estado."
   ]
  },
  {
   "cell_type": "code",
   "execution_count": 64,
   "id": "cfa4fc0e-521e-4075-9636-7ac0749112aa",
   "metadata": {},
   "outputs": [],
   "source": [
    "def llenar_dict (num_activities):\n",
    "    dic_full = dict()\n",
    "    for i in range (num_activities):\n",
    "        key = input(f\"Ingrese una actividad {i+1}: \")\n",
    "        value = \"pendiente\"\n",
    "        dic_full[key] = value\n",
    "    lista_keys = list(dic_full.keys())\n",
    "    print(\"Su lista actual de actividades pendientes es->\")\n",
    "    print(lista_keys)\n",
    "    return dic_full"
   ]
  },
  {
   "cell_type": "markdown",
   "id": "67c3f1b6-f0f9-4d3b-a523-d56d424ae998",
   "metadata": {},
   "source": [
    "Para la función *check_dict ()* se toma como parámetro un diccionario *dictionary*, que contiene a las actividades, claves, y a su estado actual como valor. Después, se recorre cada actividad y se pregunta al usuario si ha sido realizada \"check\" o si sigue pendiente, en el caso de ingresar \"check\" se elimina la clave del diccionario para evitar mostrarla la próxima vez, caso contrario, se sigue manteniendo la clave. Al final, se retorna el diccionario actualizado."
   ]
  },
  {
   "cell_type": "code",
   "execution_count": 67,
   "id": "005cb34b-73dc-41a5-82bc-1261b52513c9",
   "metadata": {},
   "outputs": [],
   "source": [
    "def check_dict (dictionary):\n",
    "    new_dict = dict()\n",
    "    print(\"Verifique que tarea se ha realizado\")\n",
    "    for i in range(len(dictionary)) :\n",
    "        lista_keys = list(dictionary.keys())\n",
    "        print(\"De la tarea {}\".format(lista_keys[i].upper()), end = \" \")\n",
    "        new_dict[lista_keys[i]] = str(input(\"ingrese check o pendiente->\").lower()) \n",
    "        if new_dict[lista_keys[i]] == \"check\":\n",
    "            del new_dict[lista_keys[i]]\n",
    "        else:\n",
    "            pass\n",
    "    return new_dict"
   ]
  },
  {
   "cell_type": "markdown",
   "id": "d37480f6-11d7-47fa-9e06-346a0bf7fe72",
   "metadata": {},
   "source": [
    "La función *lista ()* corresponde a la función principal, que gestiona la lista de actividades mediante un menú de acciones del que el usuario puede elegir."
   ]
  },
  {
   "cell_type": "code",
   "execution_count": 70,
   "id": "01d035a6-ee0a-4856-ae8f-aaf06be5a376",
   "metadata": {},
   "outputs": [],
   "source": [
    "def lista ():\n",
    "    bandera = True\n",
    "    dic = dict()\n",
    "    print(\"¡Bienvenido al sistema!\")\n",
    "    while bandera != False :\n",
    "        print(\"\\n1. Llenar la lista\")\n",
    "        print(\"2. Marcar valores de la lista\")\n",
    "        print(\"3. Revisar lista\")\n",
    "        print(\"4. Salir\")\n",
    "        opcion = int(input(\"\\nElija una opcion: \"))\n",
    "        if opcion == 1:\n",
    "            dic = llenar_dict(int(input(\"Ingrese el tamanio de la nueva lista->\")))\n",
    "        elif opcion == 2:\n",
    "            if not dic :\n",
    "                print(\"No existen valores en la lista\")\n",
    "            else: \n",
    "                dic = check_dict(dic)\n",
    "        elif opcion == 3:\n",
    "            if not dic:\n",
    "                print(\"No existen cambios o valores en la lista\")\n",
    "            else:\n",
    "                print(\"Su lista actual es->\")\n",
    "                print(dic)\n",
    "        elif opcion == 4:\n",
    "            bandera = False"
   ]
  },
  {
   "cell_type": "markdown",
   "id": "13ff0f7a-2da4-450b-bd0a-aa289d52b67c",
   "metadata": {},
   "source": [
    "Finalmente, se llama la función principal *lista ()* y se ejecuta todo el código respectivo."
   ]
  },
  {
   "cell_type": "code",
   "execution_count": 75,
   "id": "756df6d0-6b6a-4968-a8d5-f801083067b3",
   "metadata": {},
   "outputs": [
    {
     "name": "stdout",
     "output_type": "stream",
     "text": [
      "¡Bienvenido al sistema!\n",
      "\n",
      "1. Llenar la lista\n",
      "2. Marcar valores de la lista\n",
      "3. Revisar lista\n",
      "4. Salir\n"
     ]
    },
    {
     "name": "stdin",
     "output_type": "stream",
     "text": [
      "\n",
      "Elija una opcion:  3\n"
     ]
    },
    {
     "name": "stdout",
     "output_type": "stream",
     "text": [
      "No existen cambios o valores en la lista\n",
      "\n",
      "1. Llenar la lista\n",
      "2. Marcar valores de la lista\n",
      "3. Revisar lista\n",
      "4. Salir\n"
     ]
    },
    {
     "name": "stdin",
     "output_type": "stream",
     "text": [
      "\n",
      "Elija una opcion:  2\n"
     ]
    },
    {
     "name": "stdout",
     "output_type": "stream",
     "text": [
      "No existen valores en la lista\n",
      "\n",
      "1. Llenar la lista\n",
      "2. Marcar valores de la lista\n",
      "3. Revisar lista\n",
      "4. Salir\n"
     ]
    },
    {
     "name": "stdin",
     "output_type": "stream",
     "text": [
      "\n",
      "Elija una opcion:  1\n",
      "Ingrese el tamanio de la nueva lista-> 3\n",
      "Ingrese una actividad 1:  bebidas\n",
      "Ingrese una actividad 2:  desechables\n",
      "Ingrese una actividad 3:  parlantes\n"
     ]
    },
    {
     "name": "stdout",
     "output_type": "stream",
     "text": [
      "Su lista actual de actividades pendientes es->\n",
      "['bebidas', 'desechables', 'parlantes']\n",
      "\n",
      "1. Llenar la lista\n",
      "2. Marcar valores de la lista\n",
      "3. Revisar lista\n",
      "4. Salir\n"
     ]
    },
    {
     "name": "stdin",
     "output_type": "stream",
     "text": [
      "\n",
      "Elija una opcion:  3\n"
     ]
    },
    {
     "name": "stdout",
     "output_type": "stream",
     "text": [
      "Su lista actual es->\n",
      "{'bebidas': 'pendiente', 'desechables': 'pendiente', 'parlantes': 'pendiente'}\n",
      "\n",
      "1. Llenar la lista\n",
      "2. Marcar valores de la lista\n",
      "3. Revisar lista\n",
      "4. Salir\n"
     ]
    },
    {
     "name": "stdin",
     "output_type": "stream",
     "text": [
      "\n",
      "Elija una opcion:  2\n"
     ]
    },
    {
     "name": "stdout",
     "output_type": "stream",
     "text": [
      "Verifique que tarea se ha realizado\n",
      "De la tarea BEBIDAS "
     ]
    },
    {
     "name": "stdin",
     "output_type": "stream",
     "text": [
      "ingrese check o pendiente-> check\n"
     ]
    },
    {
     "name": "stdout",
     "output_type": "stream",
     "text": [
      "De la tarea DESECHABLES "
     ]
    },
    {
     "name": "stdin",
     "output_type": "stream",
     "text": [
      "ingrese check o pendiente-> pendiente\n"
     ]
    },
    {
     "name": "stdout",
     "output_type": "stream",
     "text": [
      "De la tarea PARLANTES "
     ]
    },
    {
     "name": "stdin",
     "output_type": "stream",
     "text": [
      "ingrese check o pendiente-> check\n"
     ]
    },
    {
     "name": "stdout",
     "output_type": "stream",
     "text": [
      "\n",
      "1. Llenar la lista\n",
      "2. Marcar valores de la lista\n",
      "3. Revisar lista\n",
      "4. Salir\n"
     ]
    },
    {
     "name": "stdin",
     "output_type": "stream",
     "text": [
      "\n",
      "Elija una opcion:  3\n"
     ]
    },
    {
     "name": "stdout",
     "output_type": "stream",
     "text": [
      "Su lista actual es->\n",
      "{'desechables': 'pendiente'}\n",
      "\n",
      "1. Llenar la lista\n",
      "2. Marcar valores de la lista\n",
      "3. Revisar lista\n",
      "4. Salir\n"
     ]
    },
    {
     "name": "stdin",
     "output_type": "stream",
     "text": [
      "\n",
      "Elija una opcion:  4\n"
     ]
    }
   ],
   "source": [
    "lista()"
   ]
  },
  {
   "cell_type": "markdown",
   "id": "4120f4fb-346f-44a6-ad9e-e387e5655828",
   "metadata": {},
   "source": [
    "- Ejercicio 2: \r\n",
    "Cada mes tu empresa gasta en papelería cierto monto. Haz un programa que permita verificar en qué mes se gastó más y el valor, en qué mes se gastó menos y el valor, y finalmente el promedio de gasto en el año."
   ]
  },
  {
   "cell_type": "markdown",
   "id": "4eedd9b8-06fb-4881-a860-fe417e4a8151",
   "metadata": {},
   "source": [
    "En esta pregunta, se presenta la función *mes*, que contiene los nombres de los meses del año. Dentro, genera un diccionario vacío *gasto_mes* donde cada clave es un mes y su valor es el gasto correspondiente ingresado por el usuario. A través, de un bucle *for*, se recorre la lista de meses y, por cada uno, se solicita al usuario que ingrese el gasto asociado, el cual se lo guarda como un valor flotante. Al final, se imprime el diccionario completo y se retorna para su uso posterior."
   ]
  },
  {
   "cell_type": "code",
   "execution_count": 141,
   "id": "9c5465c0-1ac8-42a9-8d1f-e96457d99924",
   "metadata": {},
   "outputs": [],
   "source": [
    "def mes ():\n",
    "    list_mes = [\"Enero\", \"Febrero\", \"Marzo\",\n",
    "                \"Abril\", \"Mayo\", \"Junio\", \n",
    "                \"Julio\", \"Agosto\", \"Septiembre\",\n",
    "                \"Octubre\", \"Noviembre\", \"Diciembre\"]\n",
    "    gasto_mes = dict()\n",
    "    print(\"Ingrese los gastos por mes:\")\n",
    "    for i in range(len(list_mes)):\n",
    "        #print(list_mes[i])\n",
    "        print(f\"{list_mes[i]}: \", end=\"\")\n",
    "        gasto_mes[list_mes[i]] = float(input())\n",
    "    print(\"\\nLos gastos de cada mes fueron->\")\n",
    "    lista_dict = list(gasto_mes.items())\n",
    "    primera_mitad = dict(lista_dict[:4])\n",
    "    segunda_mitad = dict(lista_dict[4:4*2])\n",
    "    tercera_mitad = dict(lista_dict[4*2:])\n",
    "    print(primera_mitad)\n",
    "    print(segunda_mitad)\n",
    "    print(tercera_mitad)\n",
    "    return gasto_mes "
   ]
  },
  {
   "cell_type": "markdown",
   "id": "c88bb895-d907-4414-8d76-2cafd3b8ca8f",
   "metadata": {},
   "source": [
    "La siguiente función *mayor_promedio()*, que toma como parámetros el diccionario gasto_mes. Primero, obtiene los valores \"gastos\" del diccionario y calcula el mayor y el menor, usando las funciones *max ()* y *min()*. Además, calcula el promedio anual de los gastos redondeandolo a dos decimales. Luego, recorre el diccionario y encuentra los meses correspondientes al mayor y menor gasto. Finalmente, la función imprime un resumen que indica en qué mes se produjo el mayor y el menor gasto, junto con los montos y el promedio anual de gastos."
   ]
  },
  {
   "cell_type": "code",
   "execution_count": 144,
   "id": "bc65993f-0bbc-4aea-8682-783bc512d5a4",
   "metadata": {},
   "outputs": [],
   "source": [
    "def mayor_promedio (gasto_mes):\n",
    "    mes_max = \"\"\n",
    "    mes_min = \"\"\n",
    "    list_gasto = list(gasto_mes.values())\n",
    "    gasto_max = max(list_gasto)\n",
    "    gasto_min = min(list_gasto)\n",
    "    gasto_promedio = round((sum(list_gasto)/len(list_gasto)), 2)\n",
    "    for key, value in gasto_mes.items():\n",
    "        if value == gasto_max:\n",
    "            mes_max = key\n",
    "        elif value == gasto_min:\n",
    "            mes_min = key\n",
    "        else:\n",
    "            pass\n",
    "    print(\"\\nEl mayor gasto fue en el mes de {} y es ${}.\".format(mes_max, gasto_max))\n",
    "    print(\"El menor fue en el mes de {} y es ${}.\".format(mes_min, gasto_min)) \n",
    "    print(\"El promedio gastado en todo el año es ${}\".format(gasto_promedio))"
   ]
  },
  {
   "cell_type": "markdown",
   "id": "680c5680-d4bc-4b90-9239-a20e33a5f0eb",
   "metadata": {},
   "source": [
    "A continuación, se presenta la ejecución del programa:"
   ]
  },
  {
   "cell_type": "code",
   "execution_count": 147,
   "id": "c94817bf-7d26-47d5-ad69-f642c79162ad",
   "metadata": {},
   "outputs": [
    {
     "name": "stdout",
     "output_type": "stream",
     "text": [
      "Ingrese los gastos por mes:\n",
      "Enero: "
     ]
    },
    {
     "name": "stdin",
     "output_type": "stream",
     "text": [
      " 120\n"
     ]
    },
    {
     "name": "stdout",
     "output_type": "stream",
     "text": [
      "Febrero: "
     ]
    },
    {
     "name": "stdin",
     "output_type": "stream",
     "text": [
      " 125\n"
     ]
    },
    {
     "name": "stdout",
     "output_type": "stream",
     "text": [
      "Marzo: "
     ]
    },
    {
     "name": "stdin",
     "output_type": "stream",
     "text": [
      " 136\n"
     ]
    },
    {
     "name": "stdout",
     "output_type": "stream",
     "text": [
      "Abril: "
     ]
    },
    {
     "name": "stdin",
     "output_type": "stream",
     "text": [
      " 178\n"
     ]
    },
    {
     "name": "stdout",
     "output_type": "stream",
     "text": [
      "Mayo: "
     ]
    },
    {
     "name": "stdin",
     "output_type": "stream",
     "text": [
      " 98\n"
     ]
    },
    {
     "name": "stdout",
     "output_type": "stream",
     "text": [
      "Junio: "
     ]
    },
    {
     "name": "stdin",
     "output_type": "stream",
     "text": [
      " 654\n"
     ]
    },
    {
     "name": "stdout",
     "output_type": "stream",
     "text": [
      "Julio: "
     ]
    },
    {
     "name": "stdin",
     "output_type": "stream",
     "text": [
      " 145\n"
     ]
    },
    {
     "name": "stdout",
     "output_type": "stream",
     "text": [
      "Agosto: "
     ]
    },
    {
     "name": "stdin",
     "output_type": "stream",
     "text": [
      " 169\n"
     ]
    },
    {
     "name": "stdout",
     "output_type": "stream",
     "text": [
      "Septiembre: "
     ]
    },
    {
     "name": "stdin",
     "output_type": "stream",
     "text": [
      " 654\n"
     ]
    },
    {
     "name": "stdout",
     "output_type": "stream",
     "text": [
      "Octubre: "
     ]
    },
    {
     "name": "stdin",
     "output_type": "stream",
     "text": [
      " 324\n"
     ]
    },
    {
     "name": "stdout",
     "output_type": "stream",
     "text": [
      "Noviembre: "
     ]
    },
    {
     "name": "stdin",
     "output_type": "stream",
     "text": [
      " 698\n"
     ]
    },
    {
     "name": "stdout",
     "output_type": "stream",
     "text": [
      "Diciembre: "
     ]
    },
    {
     "name": "stdin",
     "output_type": "stream",
     "text": [
      " 1000\n"
     ]
    },
    {
     "name": "stdout",
     "output_type": "stream",
     "text": [
      "\n",
      "Los gastos de cada mes fueron->\n",
      "{'Enero': 120.0, 'Febrero': 125.0, 'Marzo': 136.0, 'Abril': 178.0}\n",
      "{'Mayo': 98.0, 'Junio': 654.0, 'Julio': 145.0, 'Agosto': 169.0}\n",
      "{'Septiembre': 654.0, 'Octubre': 324.0, 'Noviembre': 698.0, 'Diciembre': 1000.0}\n",
      "\n",
      "El mayor gasto fue en el mes de Diciembre y es $1000.0.\n",
      "El menor fue en el mes de Mayo y es $98.0.\n",
      "El promedio gastado en todo el año es $358.42\n"
     ]
    }
   ],
   "source": [
    "valores = mes()\n",
    "mayor_promedio(valores)"
   ]
  },
  {
   "cell_type": "markdown",
   "id": "c5bcf2c2-629b-4da2-afbf-88d216772245",
   "metadata": {},
   "source": [
    "### 4. Conclusiones\n",
    "\n",
    "Los ejercicios resueltos destacan la importancia de las estructuras de control y las funciones en la organización y eficiencia del código. El uso de listas y diccionarios simplificó la gestión de datos, como la planificación de actividades para una fiesta y el análisis de gastos mensuales. Las declaraciones condicionales y los bucles automatizaron las decisiones, haciendo el programa más dinámico y eficaz. La definición de funciones resultó fundamental para estructurar el código en bloques independientes y específicos, lo que facilitó la comprensión y cualquier cambio a realizarse al asignar a cada función una tarea particular dentro del programa."
   ]
  },
  {
   "cell_type": "markdown",
   "id": "cd6ced9f-7264-45d9-a2f6-feb984290446",
   "metadata": {},
   "source": [
    "### 5. Referencias bibliográficas\n",
    "\n",
    "B. S. Marco, «Introducción a la programación con Python,» 28 03 2023. [En línea]. Available: https://www.mclibre.org/consultar/python/lecciones/python-operaciones-matematicas.html. [Último acceso: 12 10 2024]."
   ]
  },
  {
   "cell_type": "markdown",
   "id": "72d37666-fef0-4578-b312-bc96503747c0",
   "metadata": {},
   "source": [
    "### 6. Declaración uso de IA\n",
    "\n",
    "En el presente informe la IA fue implementada para aplicar nuevas funciones como lo son min() y max() que obtienen el mínimo y máximo valor de una lista. También para la aplicacion de la función round() que permitió obtener un promedio redondeado de hasta dos decimales. "
   ]
  }
 ],
 "metadata": {
  "kernelspec": {
   "display_name": "Python 3 (ipykernel)",
   "language": "python",
   "name": "python3"
  },
  "language_info": {
   "codemirror_mode": {
    "name": "ipython",
    "version": 3
   },
   "file_extension": ".py",
   "mimetype": "text/x-python",
   "name": "python",
   "nbconvert_exporter": "python",
   "pygments_lexer": "ipython3",
   "version": "3.12.3"
  }
 },
 "nbformat": 4,
 "nbformat_minor": 5
}
