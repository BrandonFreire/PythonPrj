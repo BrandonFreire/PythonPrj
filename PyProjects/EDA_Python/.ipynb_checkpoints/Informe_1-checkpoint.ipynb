{
 "cells": [
  {
   "cell_type": "raw",
   "id": "d7f164cd-b733-42b2-9f8e-12a329c2b23c",
   "metadata": {},
   "source": [
    "---\n",
    "tittle: \"Informe 1\"\n",
    "author: \"Ismael Freire\"\n",
    "lang: es\n",
    "format:\n",
    "  pdf:\n",
    "    toc: true\n",
    "    toc-title: \"Tabla de contenidos\"\n",
    "execute:\n",
    "   echo: true\n",
    "   error: false\n",
    "   warning: false\n",
    "jupyter: python3\n",
    "link-citations: true\n",
    "---"
   ]
  },
  {
   "cell_type": "markdown",
   "id": "0120bb31-04df-4ef2-b91a-cb1280c6041b",
   "metadata": {
    "panel-layout": {
     "height": 60.6019,
     "visible": true,
     "width": 100
    }
   },
   "source": [
    "# Escuela Politécnica Nacional | EDA II-Informe N°1"
   ]
  },
  {
   "cell_type": "markdown",
   "id": "e16a8aa2-95a3-48b0-9f90-fe0b1fe1f416",
   "metadata": {
    "panel-layout": {
     "height": 61.2153,
     "visible": true,
     "width": 100
    }
   },
   "source": [
    "### 1. Objetivos\n",
    "\n",
    "- Investigar los dilemas éticos asociados a la creación y uso de deepfakes en medios de comunicación y redes sociales. Identificando los riesgos relacionados con la desinformación, la privacidad y la manipulación política.\n",
    "\n",
    "- Ejecutar varias expresiones aritméticas, verificando su uso y los posibles errores de ejecución. "
   ]
  },
  {
   "cell_type": "markdown",
   "id": "f5162ec2-dc42-4564-9af5-51f279d28df3",
   "metadata": {
    "jp-MarkdownHeadingCollapsed": true
   },
   "source": [
    "### 2. Introducción\n",
    "\n",
    "Los deepfakes representan una de las tecnologías más avanzadas y controvertidas de la inteligencia artificial en la actualidad. Los videos generados y manipulados, que imitan de manera casi perfecta la voz, apariencia y gestos de una persona, han abierto nuevas oportunidades en campos como el entretenimiento y la creación de contenido digital. Sin embargo, su capacidad para distorsionar la realidad también ha generado serias preocupaciones éticas, legales y sociales, especialmente en lo que respecta a la desinformación, la privacidad y el potencial para causar daño a nivel personal y social. Este informe trata sobre las implicaciones éticas, así como un caso ficcticio y uno sucedido en el pasado.\n",
    "\n",
    "Por otro lado, se tiene a uno de los lenguajes de programación mas populares, Python, el cual es un lenguaje versátil que ofrece una amplia variedad de operadores que permiten realizar cálculos matemáticos, comparaciones y manipulación de datos de manera eficiente. Por lo que entender cómo funcionan estos operadores, así como su precedencia y manejo de errores, es clave para la elaboración un código óptimo y funcional. De la mano, se tiene a Markdown que se ha consolidado como una herramienta esencial para la creación de documentación técnica, permitiendo estructurar información con formato claro y conciso. Su capacidad para crear listas, citas, resaltar código, y aplicar estilos simples como tachado, lo convierte en una opción ideal para generar documentos fáciles de leer y compartir. "
   ]
  },
  {
   "cell_type": "markdown",
   "id": "a1a240c3-7f61-46a4-8820-e30b13ff364d",
   "metadata": {},
   "source": [
    "### 3. Ejercicios planteados y/o programas implementados"
   ]
  },
  {
   "cell_type": "markdown",
   "id": "36edb079-7aa0-471b-ba41-9c51bfc974f2",
   "metadata": {},
   "source": [
    "- (Investigación: La ética de las deep fakes) Las tecnologías de inteligencia artificial están haciendo posible la creación de falsificaciones profundas: videos falsos realistas de personas que capturan su apariencia, voz, movimientos corporales y expresiones faciales. Puede hacer que digan y hagan lo que usted especifique.\n",
    "\n",
    "Los avances recientes en tecnología digital han mejorado notablemente la creación de imágenes y videos realistas mediante gráficos por computadora e inteligencia artificial, lo que dificulta distinguir entre medios reales y falsos. Estas imágenes generadas por computadora tienen aplicaciones útiles, pero también representan amenazas a la privacidad y seguridad. Deepfake combina \"aprendizaje profundo\" y \"falsificación\", permitiendo reemplazar rostros, voces y expresiones en videos de manera casi indetectable. Sin embargo, si se presta un poco más de atención se pueden hallar detalles que revelan una falsificación.\n",
    "\n",
    "Incongruencias en la piel (demasiado lisa o demasiado arrugada, o su edad parece desviada en comparación con el cabello).\n",
    "\n",
    "Sombras apagadas alrededor de los ojos.\n",
    "\n",
    "Errores de deslumbramiento en las gafas, vello y lunares faciales poco realistas. Así como demasiado o muy poco parpadeo.\n",
    "  \n",
    "Color de los labios fuera de lugar en comparación con la cara y movimiento poco realista alrededor de la boca."
   ]
  },
  {
   "cell_type": "markdown",
   "id": "332a03f0-ec4d-431b-bda5-d9c2c8d32693",
   "metadata": {},
   "source": [
    "-  Investiga la ética de las falsificaciones profundas. ¿Qué pasaría si enciende su televisor y ve un video muy falso de un destacado funcionario del gobierno o presentador de noticias que informa que está a punto de ocurrir un ataque nuclear?\n",
    "  \n",
    "Posiblemente algunas personas podamos reconocer la clase de video que se está transmitiendo y entender que se trata de una falsificación profunda. Sin embargo, al tratarse de un video muy realista que aborda a un tema sumamente sensible y aterrador, se podría generar gran pánico, caos, miedo y desesperación inmediato y generalizado. Especialmente, si se transmite a travéz de las redes sociales, las cuales con su capacidaad de propagar una noticia tan rapido es muy posible que supere el tiempo de reacción de los gobiernos locales y legítimos. Además, un video de tal magnitud puede desencadenar conflictos diplomáticos o incitar a acciones militares precipitadas por parte de los paises afectados, lo que amenazaría a la seguridad y estabilidad global."
   ]
  },
  {
   "cell_type": "markdown",
   "id": "b4c28bd3-6cd8-455e-b7ab-eb99e0818967",
   "metadata": {},
   "source": [
    "- Investiga sobre Orson Welles y su transmisión de radio \"La guerra de los mundos\" de 1938, que creó un pánico masivo.\n",
    "\n",
    "Un 30 de octubre de 1938, el actor y futuro director de cine Orson Welles empezaba un inocente programa de apenas una hora de duración basado en la novela de George Wells \"La guerra de los mundos\", no sin antes mencionar que se trataba de una adapatación a esta obra de ciencia ficción. Coincidentemente, en el guión empleado para la narración, dicha novela se transformó en una noticia en la que el actor daba vida a un cientifico, cuyo proposito era explicar la invasion extraterrestre junto a otro actor que hacia del periodista. Durante la transmisión se relato una caida de meteoritos que represataban la llegada de los invasores hasta el subsuelo de la Tierra e indicaba como el calor, rayos y gases atacaban a la ciudad. Hasta el momento en el que el reportero yacía muerto en la azotea del estudio debido a los gases alienígenas. \n",
    "\n",
    "Fue recién en el minuto 40 cuando los narradores recordaron al público que la obra era solo ficción. Para entonces, muchas personas ya habían entrado en pánico y comenzado a huir de las ciudades, lo que provocó un caos y colapsó varias de ellas. "
   ]
  },
  {
   "cell_type": "markdown",
   "id": "05ff6227-013e-45ee-aa7f-90bd46ed125d",
   "metadata": {
    "panel-layout": {
     "height": 85.40509033203125,
     "visible": true,
     "width": 100
    }
   },
   "source": [
    "- Usando Jupyter Lab, ejecute las siguientes expresiones. ¿Qué hacen los\r\n",
    "dos operadores? ¿Cuáles producen un error de tiempo de ejecución y qué\r\n",
    "significa el error?"
   ]
  },
  {
   "cell_type": "markdown",
   "id": "266ede22-6ed3-43b0-82b3-f519500ec7bd",
   "metadata": {},
   "source": [
    "a)  El operador **/** realiza una división normal, ya que devuelve un número de tipo float."
   ]
  },
  {
   "cell_type": "code",
   "execution_count": 26,
   "id": "41e08357-653e-478a-8523-95cb1a7f3c70",
   "metadata": {
    "panel-layout": {
     "height": 0,
     "visible": true,
     "width": 100
    }
   },
   "outputs": [
    {
     "name": "stdout",
     "output_type": "stream",
     "text": [
      "3.3333333333333335\n"
     ]
    }
   ],
   "source": [
    "print(100/30)"
   ]
  },
  {
   "cell_type": "markdown",
   "id": "e215a4bd-e10e-465a-8cd0-508d2d1e7f1b",
   "metadata": {},
   "source": [
    "b) El operador **//** realiza una división entera ya que devuelve solo la parte entera de la división, eliminando los decimales."
   ]
  },
  {
   "cell_type": "code",
   "execution_count": 29,
   "id": "d3085cb6-a15d-4cc1-b276-2d4f5aef57ee",
   "metadata": {
    "panel-layout": {
     "height": 0,
     "visible": true,
     "width": 100
    }
   },
   "outputs": [
    {
     "name": "stdout",
     "output_type": "stream",
     "text": [
      "3\n"
     ]
    }
   ],
   "source": [
    "print(100//30)"
   ]
  },
  {
   "cell_type": "markdown",
   "id": "955aff6a-2167-4528-8444-a8117587f249",
   "metadata": {},
   "source": [
    "c) En esta operación se realiza una división por cero, lo cual no esta permitido y Python genera un error *ZeroDivisionError*. Este corresponde a un *error de tiempo de ejecución*."
   ]
  },
  {
   "cell_type": "code",
   "execution_count": 32,
   "id": "6cb43391-a8e0-432a-b239-05230c91e95e",
   "metadata": {},
   "outputs": [
    {
     "name": "stdout",
     "output_type": "stream",
     "text": [
      "division by zero\n"
     ]
    }
   ],
   "source": [
    "try:\n",
    "    print(100/0)\n",
    "except ZeroDivisionError as e:\n",
    "    print(e)\n"
   ]
  },
  {
   "cell_type": "markdown",
   "id": "3c61c2ec-ac9b-4931-8888-12cb768eea21",
   "metadata": {},
   "source": [
    "d) Al igual que en el caso anterior, el operador **//** intenta realizar una división entera por cero, que también genera un *ZeroDivisionError*"
   ]
  },
  {
   "cell_type": "code",
   "execution_count": 34,
   "id": "ab90704a-38ac-48f1-a799-b17eb5a31820",
   "metadata": {},
   "outputs": [
    {
     "name": "stdout",
     "output_type": "stream",
     "text": [
      "integer division or modulo by zero\n"
     ]
    }
   ],
   "source": [
    "try:\n",
    "    print(100//0)\n",
    "except ZeroDivisionError as e:\n",
    "    print(e)"
   ]
  },
  {
   "cell_type": "markdown",
   "id": "f273cba0-e31b-4676-9587-e7275662c94b",
   "metadata": {},
   "source": [
    "e) Se divide el número 0 por otro como es el 100, lo que es permitido y Python devuelve un número de tip *float*."
   ]
  },
  {
   "cell_type": "code",
   "execution_count": 36,
   "id": "7b557275-6aed-4b80-91df-2cc4e023362b",
   "metadata": {
    "panel-layout": {
     "height": 0,
     "visible": true,
     "width": 100
    }
   },
   "outputs": [
    {
     "name": "stdout",
     "output_type": "stream",
     "text": [
      "0.0\n"
     ]
    }
   ],
   "source": [
    "print(0/100)"
   ]
  },
  {
   "cell_type": "markdown",
   "id": "ff17f767-56a3-4aeb-9721-311c764f40ac",
   "metadata": {},
   "source": [
    "f) Se realiza una división entera entre 0 y 100. Casi similar al caso anterior, se tiene una división positiva que devuelve la parte entera que es 0. "
   ]
  },
  {
   "cell_type": "code",
   "execution_count": 40,
   "id": "bf285eb7-e7d5-4321-bf66-9a3e9cc8ff8c",
   "metadata": {
    "panel-layout": {
     "height": 0,
     "visible": true,
     "width": 100
    }
   },
   "outputs": [
    {
     "name": "stdout",
     "output_type": "stream",
     "text": [
      "0\n"
     ]
    }
   ],
   "source": [
    "print(0//100)"
   ]
  },
  {
   "cell_type": "markdown",
   "id": "f75989fb-4a38-43dc-9ec1-e43cccc3facf",
   "metadata": {
    "panel-layout": {
     "height": 85.40509033203125,
     "visible": true,
     "width": 100
    }
   },
   "source": [
    "- Usando Jupyter Lab, ejecute las siguientes expresiones. ¿Cuál es la prioridad de ejecución entre los operadores? ¿Cuáles producen un error de tiempo de ejecución?"
   ]
  },
  {
   "cell_type": "markdown",
   "id": "36b69007-f3b5-4623-8ffd-14d90613634b",
   "metadata": {},
   "source": [
    "a) La división tiene mayor precedencia que la suma, por lo que primero se ejecuta la división y luego la suma."
   ]
  },
  {
   "cell_type": "code",
   "execution_count": 44,
   "id": "618ca1ba-ba4c-4e0a-847a-b400d1274dc7",
   "metadata": {},
   "outputs": [
    {
     "name": "stdout",
     "output_type": "stream",
     "text": [
      "40.333333333333336\n"
     ]
    }
   ],
   "source": [
    "print(100 / 3 + 7)"
   ]
  },
  {
   "cell_type": "markdown",
   "id": "18f373a3-7259-4c1d-8dbb-bbb6b8373748",
   "metadata": {},
   "source": [
    "b) Al seguir teniendo la división entera mayor precedencia, esta se ejecuta primero y luego la suma."
   ]
  },
  {
   "cell_type": "code",
   "execution_count": 46,
   "id": "4a92f41f-5333-466c-8282-3a02bdc0e4f0",
   "metadata": {},
   "outputs": [
    {
     "name": "stdout",
     "output_type": "stream",
     "text": [
      "40\n"
     ]
    }
   ],
   "source": [
    "print(100 // 3 + 7)"
   ]
  },
  {
   "cell_type": "markdown",
   "id": "ecd62a3d-f8b1-4eee-93a3-3621c808435f",
   "metadata": {},
   "source": [
    "c) Los paréntesis tienen la mayor precedencia, por lo que primero se realiza la operación dentro de estos y luego la división fuera. "
   ]
  },
  {
   "cell_type": "code",
   "execution_count": 51,
   "id": "52da4ff6-1973-40cc-83f5-1a2cbeec75d4",
   "metadata": {},
   "outputs": [
    {
     "name": "stdout",
     "output_type": "stream",
     "text": [
      "10.0\n"
     ]
    }
   ],
   "source": [
    "print( 100 / (3 + 7))"
   ]
  },
  {
   "cell_type": "markdown",
   "id": "0695deb9-de9f-43d4-b672-211ed288857c",
   "metadata": {},
   "source": [
    "d) La división será la que se realice primero por su mayor presedencia y luego la resta. "
   ]
  },
  {
   "cell_type": "code",
   "execution_count": 54,
   "id": "80f5355e-edf7-46a4-95a7-3e159ff92309",
   "metadata": {},
   "outputs": [
    {
     "name": "stdout",
     "output_type": "stream",
     "text": [
      "30.333333333333336\n"
     ]
    }
   ],
   "source": [
    "print(100 / 3 - 3)"
   ]
  },
  {
   "cell_type": "markdown",
   "id": "e01a3f57-2518-4317-8768-d70cb295a9a9",
   "metadata": {},
   "source": [
    "e) Al tener paréntesis estos se realizarán primero, lo que genera un valor de 0 para el cual no se puede realizar una división ()."
   ]
  },
  {
   "cell_type": "code",
   "execution_count": 57,
   "id": "650245aa-5d0a-48bc-9a8a-944846271655",
   "metadata": {},
   "outputs": [
    {
     "name": "stdout",
     "output_type": "stream",
     "text": [
      "division by zero\n"
     ]
    }
   ],
   "source": [
    "try:\n",
    "    print(100 / (3 - 3))\n",
    "except ZeroDivisionError as e:\n",
    "    print(e)"
   ]
  },
  {
   "cell_type": "markdown",
   "id": "55de22c5-29ad-4f1c-8942-9b7099b11891",
   "metadata": {},
   "source": [
    "f) Similar al caso anterior, se realiza la operación dentro del paréntesis obteniendo un valor de 0. A este luego se le intenta realizar la división entera que provoca un *ZeroDivisionError*"
   ]
  },
  {
   "cell_type": "code",
   "execution_count": 59,
   "id": "a5dd0e34-f8f8-4380-8f35-e025f74f7050",
   "metadata": {},
   "outputs": [
    {
     "name": "stdout",
     "output_type": "stream",
     "text": [
      "integer division or modulo by zero\n"
     ]
    }
   ],
   "source": [
    "try: \n",
    "    print(100 // (3 - 3))\n",
    "except ZeroDivisionError as e:\n",
    "    print(e)"
   ]
  },
  {
   "cell_type": "markdown",
   "id": "f083ad25-cc55-4e45-a18a-0677421f00f8",
   "metadata": {},
   "source": [
    "- Crear celdas Markdown, Use un notebook para:\n",
    "   \r\n",
    "• Celda 1 (representada como Markdown: el título debe ser “Mund \r\n",
    "Python – Clase 1”, en estilo de encabezado H1. El título no necesitastar r\r\n",
    "tradomos."
   ]
  },
  {
   "cell_type": "markdown",
   "id": "e4cc96f0-88ec-42e3-b81b-c51bbce45ac2",
   "metadata": {},
   "source": [
    "\"# Mundo Python - Clase 1\""
   ]
  },
  {
   "cell_type": "markdown",
   "id": "0e97a574-80e7-4f28-bffa-923848fe0109",
   "metadata": {},
   "source": [
    "• Celda 2 (presentada como Markdown): incluya su nombre en negrita.\n",
    "En la línea debajo de su nombre, escriba su ocupación actual o deseada\n",
    "en letra normal."
   ]
  },
  {
   "cell_type": "markdown",
   "id": "440c9bf5-da7e-4caa-9e0e-8e810c7e8a0f",
   "metadata": {},
   "source": [
    "**Ismael Freire**\n",
    "\n",
    "Estudiante"
   ]
  },
  {
   "cell_type": "markdown",
   "id": "fca3a0b0-3f6e-45cc-9e20-ff37cbe2beb5",
   "metadata": {},
   "source": [
    "• Celda 3 (representada como Markdown): en formato de cursiva, escriba\n",
    "una o dos oraciones sobre por qué es importante el diseño de algoritmos."
   ]
  },
  {
   "cell_type": "markdown",
   "id": "6a26adca-c7cc-433b-9fec-adb65e7d5f51",
   "metadata": {
    "editable": true,
    "slideshow": {
     "slide_type": ""
    },
    "tags": []
   },
   "source": [
    "*Es importante porque permiten resolver problemas y tareas complejas de manera eficiente, optimizando el uso de los recursos del computador.*\n",
    "\n",
    "*Además, los algoritmos son la columna vertebral de un programa informático. Ya que estos son el código que le da a una computadora las instrucciones específicas para completar una tarea.*"
   ]
  },
  {
   "cell_type": "markdown",
   "id": "822032da-5dfd-45eb-960b-2ef63a3dda4e",
   "metadata": {},
   "source": [
    "• Celda 4 (representada como Markdown): en estilo de encabezado H3,\n",
    "explique en una oración corta lo que se supone que debe hacer su código\n",
    "en la celda 5"
   ]
  },
  {
   "cell_type": "markdown",
   "id": "3622c078-482b-4057-ae70-9df72cf6575b",
   "metadata": {},
   "source": [
    "\" ### Imprimir numeros del 1 al 10 con saltos de dos en dos\""
   ]
  },
  {
   "cell_type": "markdown",
   "id": "6305ed10-03c2-4301-8ad4-41a50cf11be2",
   "metadata": {
    "editable": true,
    "slideshow": {
     "slide_type": ""
    },
    "tags": []
   },
   "source": [
    "• Celda 5 (celda de código) Su código, como se describe en la Celda 4. Debe ejecutarse y mostrar una salida. Trate de mantener el código simple (incluso puede ser \"1 + 1\")."
   ]
  },
  {
   "cell_type": "code",
   "execution_count": 8,
   "id": "63fc1f82-e5c6-4211-845a-d6aa1093bbf1",
   "metadata": {
    "editable": true,
    "slideshow": {
     "slide_type": ""
    },
    "tags": []
   },
   "outputs": [
    {
     "name": "stdout",
     "output_type": "stream",
     "text": [
      "1 3 5 7 9\n"
     ]
    }
   ],
   "source": [
    "print(*range(1,11,2))"
   ]
  },
  {
   "cell_type": "markdown",
   "id": "5b448e42-2851-4353-ad92-6055fb073ee9",
   "metadata": {},
   "source": [
    "• Celda 6 (representada como Markdown): esta celda debe incluir al menos 3 de los siguientes línea horizontal, lista con viñetas, lista numerada, tabla, hipervínculos, imágenes, resaltado de código/sintax comillas bloqueadas (blockquote), tachado."
   ]
  },
  {
   "cell_type": "markdown",
   "id": "a56a0898-bb31-49ce-8763-84e1225d3466",
   "metadata": {
    "editable": true,
    "slideshow": {
     "slide_type": ""
    },
    "tags": []
   },
   "source": [
    "* Primero \n",
    "* Segundo \n",
    "* Tercer\n",
    "\n",
    "---\n",
    "\n",
    "~~Texto tachado~~\n",
    "\n",
    "---\n",
    "\n",
    "```python\n",
    "def caminar ():\n",
    "    print(\"Caminando\")\n",
    "```"
   ]
  },
  {
   "cell_type": "markdown",
   "id": "415dcc80-2411-4d17-93ff-906505810d06",
   "metadata": {
    "editable": true,
    "slideshow": {
     "slide_type": ""
    },
    "tags": []
   },
   "source": [
    "### 4. Conclusiones\n",
    "\n",
    "Los deep fakes representan a una tecnología con un enorme potencial si va dirigido para usos creativos, ya que su impacto depende en la gran mayoría del uso ético y las regulaciones que se le apliquen. Si bien es cierto que esta técnologia puede estar involucrada en ámbitos como el entretenimiento, la educación e incluso la política, tambíen puede representar una enorme amenzada cuando se lo usa para la desinformación, manipulación política y hasta violaciones de la privacidad. \n",
    "\n",
    "Python permite realizar operaciones matemáticas y lógicas de forma eficiente y bastante clara. Siendo a través del uso de la precedencia de operadores lo que define el orden en el que se realizan las operaciones, esto es importante para evitar errores lógicos durante los calculos. \n",
    "Por otra parte, al trabajar junto a Markdown se facilita la creación de contenido con formato de manera simple y rápida. La creación de listas con viñetas, líneas horizontales, resaltado de código, comillas bloqueadas, y tachado, muestran cómo se puede usar esta herramienta para estructurar y organizar texto de forma sencilla."
   ]
  },
  {
   "cell_type": "markdown",
   "id": "1be2be4d-64c4-4950-9493-256d5579cd9a",
   "metadata": {},
   "source": [
    "### 5. Referencias bibliográficas\n",
    "\n",
    "Chadha, A., Kumar, V., Kashyap, S., & Gupta, M. (2021). Deepfake: an overview. In Proceedings of second international conference on computing, communications, and cyber-security: IC4S 2020 (pp. 557-566). Springer Singapore.\n",
    "\n",
    "C. C. Garay, «National Geographic,» 21 10 2019. [En línea]. Available: \n",
    "\n",
    "https://www.nationalgeographic.es/historia/2019/10/la-guerra-de-los-mundos-el-mito-de-la-emision-de-radio-que-desencadeno-el-panico. [Último acceso: 11 10 2024].\n",
    "\n",
    "B. S. Marco, «Introducción a la programación con Python,» 28 03 2023. [En línea]. Available: https://www.mclibre.org/consultar/python/lecciones/python-operaciones-matematicas.html. [Último acceso: 11 10 2024]."
   ]
  },
  {
   "cell_type": "markdown",
   "id": "32b3b758-39dd-46e7-b399-2566f06a0264",
   "metadata": {
    "editable": true,
    "slideshow": {
     "slide_type": ""
    },
    "tags": []
   },
   "source": [
    "### 6. Declaración uso de IA\n",
    "En el presente informe la IA fue utilizada para explicar con mayor detalles algunos de los operadores y/o operaciones que están permitidas en Python. "
   ]
  }
 ],
 "metadata": {
  "kernelspec": {
   "display_name": "Python 3 (ipykernel)",
   "language": "python",
   "name": "python3"
  },
  "language_info": {
   "codemirror_mode": {
    "name": "ipython",
    "version": 3
   },
   "file_extension": ".py",
   "mimetype": "text/x-python",
   "name": "python",
   "nbconvert_exporter": "python",
   "pygments_lexer": "ipython3",
   "version": "3.12.3"
  },
  "panel-cell-order": [
   "0120bb31-04df-4ef2-b91a-cb1280c6041b",
   "5ce368d6-12de-49a7-ade1-193184fae132",
   "406a9dc8-c340-4774-8999-6397b4ef01b9",
   "e16a8aa2-95a3-48b0-9f90-fe0b1fe1f416",
   "05ff6227-013e-45ee-aa7f-90bd46ed125d",
   "41e08357-653e-478a-8523-95cb1a7f3c70",
   "d3085cb6-a15d-4cc1-b276-2d4f5aef57ee",
   "7b557275-6aed-4b80-91df-2cc4e023362b",
   "bf285eb7-e7d5-4321-bf66-9a3e9cc8ff8c",
   "f75989fb-4a38-43dc-9ec1-e43cccc3facf"
  ]
 },
 "nbformat": 4,
 "nbformat_minor": 5
}
