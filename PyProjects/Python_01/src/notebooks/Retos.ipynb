{
 "cells": [
  {
   "cell_type": "code",
   "execution_count": null,
   "metadata": {},
   "outputs": [
    {
     "name": "stdout",
     "output_type": "stream",
     "text": [
      "10 14 20 22 26 28 32 34 38 40 44 46 50 52 "
     ]
    }
   ],
   "source": [
    "# RETOS\n",
    "## 1-Crea un programa que imprima por consola todos los números comprendidos entre 10 y 55 (incluidos), pares, y que no son ni el 16 ni múltiplos de 3.\n",
    "for i in range(10,56,2):\n",
    "    if i != 16 and i%3 != 0 : \n",
    "        print(i, end=\" \")"
   ]
  },
  {
   "cell_type": "code",
   "execution_count": 5,
   "metadata": {},
   "outputs": [
    {
     "name": "stdout",
     "output_type": "stream",
     "text": [
      "1\n",
      "2\n",
      "Fizz\n",
      "4\n",
      "Buzz\n",
      "Fizz\n",
      "7\n",
      "8\n",
      "Fizz\n",
      "Buzz\n",
      "11\n",
      "Fizz\n",
      "13\n",
      "14\n",
      "FizzBuzz\n",
      "16\n",
      "17\n",
      "Fizz\n",
      "19\n",
      "Buzz\n",
      "Fizz\n",
      "22\n",
      "23\n",
      "Fizz\n",
      "Buzz\n",
      "26\n",
      "Fizz\n",
      "28\n",
      "29\n",
      "FizzBuzz\n",
      "31\n",
      "32\n",
      "Fizz\n",
      "34\n",
      "Buzz\n",
      "Fizz\n",
      "37\n",
      "38\n",
      "Fizz\n",
      "Buzz\n",
      "41\n",
      "Fizz\n",
      "43\n",
      "44\n",
      "FizzBuzz\n",
      "46\n",
      "47\n",
      "Fizz\n",
      "49\n",
      "Buzz\n",
      "Fizz\n",
      "52\n",
      "53\n",
      "Fizz\n",
      "Buzz\n",
      "56\n",
      "Fizz\n",
      "58\n",
      "59\n",
      "FizzBuzz\n",
      "61\n",
      "62\n",
      "Fizz\n",
      "64\n",
      "Buzz\n",
      "Fizz\n",
      "67\n",
      "68\n",
      "Fizz\n",
      "Buzz\n",
      "71\n",
      "Fizz\n",
      "73\n",
      "74\n",
      "FizzBuzz\n",
      "76\n",
      "77\n",
      "Fizz\n",
      "79\n",
      "Buzz\n",
      "Fizz\n",
      "82\n",
      "83\n",
      "Fizz\n",
      "Buzz\n",
      "86\n",
      "Fizz\n",
      "88\n",
      "89\n",
      "FizzBuzz\n",
      "91\n",
      "92\n",
      "Fizz\n",
      "94\n",
      "Buzz\n",
      "Fizz\n",
      "97\n",
      "98\n",
      "Fizz\n"
     ]
    }
   ],
   "source": [
    "## 2- \n",
    "# Reto #0\n",
    "# EL FAMOSO \"FIZZ BUZZ\"\n",
    "# Enunciado: Escribe un programa que muestre por consola (con un print) los números de 1 a 100 (ambos incluidos y con un salto de línea entre cada impresión), sustituyendo los siguientes:\n",
    "# - Múltiplos de 3 por la palabra \"fizz\".\n",
    "# - Múltiplos de 5 por la palabra \"buzz\".\n",
    "# - Múltiplos de 3 y de 5 a la vez por la palabra \"fizzbuzz\".\n",
    "\n",
    "def FizzBuzz ():\n",
    "    for i in range(1,100,1):\n",
    "        if i%3 == 0 and i%5 == 0:\n",
    "            print(\"FizzBuzz\") \n",
    "        elif i%3 == 0:\n",
    "            print(\"Fizz\")\n",
    "        elif i%5==0:\n",
    "            print(\"Buzz\")\n",
    "        else:\n",
    "            print(i)\n",
    "\n",
    "FizzBuzz()"
   ]
  },
  {
   "cell_type": "code",
   "execution_count": 59,
   "metadata": {},
   "outputs": [
    {
     "name": "stdout",
     "output_type": "stream",
     "text": [
      "True\n",
      "True\n"
     ]
    }
   ],
   "source": [
    "# Reto #1\n",
    "# Dificultad: MEDIA\n",
    "# Enunciado: Escribe una función que reciba dos palabras (String) y retorne verdadero o falso (Boolean) según sean o no anagramas.\n",
    "# Un Anagrama consiste en formar una palabra reordenando TODAS las letras de otra palabra inicial.\n",
    "# NO hace falta comprobar que ambas palabras existan.\n",
    "# Dos palabras exactamente iguales no son anagrama.\n",
    "\n",
    "def Anagrama (word_1 : str, word_2:str):\n",
    "    if len(word_1) == len(word_2):\n",
    "        if word_1.lower() == word_2.lower()[::-1]:\n",
    "            return True\n",
    "        else:\n",
    "            return False\n",
    "    elif word_1.lower() == word_2.lower():\n",
    "        return False\n",
    "    else:\n",
    "        return False\n",
    "\n",
    "print(Anagrama(\"amor\",\"roma\"))\n",
    "print(Anagrama(\"AnnA\",\"anna\"))"
   ]
  },
  {
   "cell_type": "code",
   "execution_count": null,
   "metadata": {},
   "outputs": [
    {
     "name": "stdout",
     "output_type": "stream",
     "text": [
      "0 1 1 2 3 5 8 13 21 34 55 89 144 233 377 610 987 1597 2584 4181 6765 10946 17711 28657 46368 75025 121393 196418 317811 514229 832040 1346269 2178309 3524578 5702887 9227465 14930352 24157817 39088169 63245986 102334155 165580141 267914296 433494437 701408733 1134903170 1836311903 2971215073 4807526976 7778742049 "
     ]
    }
   ],
   "source": [
    "# Reto #2\n",
    "# LA SUCESIÓN DE FIBONACCI\n",
    "# Dificultad: DIFÍCIL\n",
    "#  Enunciado: Escribe un programa que imprima los 50 primeros números de la sucesión de Fibonacci empezando en 0.\n",
    "# La serie Fibonacci se compone por una sucesión de números en la que el siguiente siempre es la suma de los dos anteriores.\n",
    "# 0, 1, 1, 2, 3, 5, 8, 13...\n",
    "\n",
    "def Fibonacci (n:int):\n",
    "    n_o = 0\n",
    "    n_1 = 1\n",
    "    for i in range(0,n,1):\n",
    "        print(n_o, end = \" \")\n",
    "        fi = n_o + n_1\n",
    "        n_o = n_1\n",
    "        n_1 = fi\n",
    "\n",
    "Fibonacci(50)"
   ]
  },
  {
   "cell_type": "code",
   "execution_count": 60,
   "metadata": {},
   "outputs": [],
   "source": [
    "# Reto #3\n",
    "# ¿ES UN NÚMERO PRIMO?\n",
    "\n",
    "# Dificultad: MEDIA\n",
    "# Enunciado: Escribe un programa que se encargue de comprobar si un número es o no primo.\n",
    "# Hecho esto, imprime los números primos entre 1 y 100.\n",
    "\n",
    "def esPrimo(n):\n",
    "    print()"
   ]
  },
  {
   "cell_type": "code",
   "execution_count": 32,
   "metadata": {},
   "outputs": [
    {
     "name": "stdout",
     "output_type": "stream",
     "text": [
      "24\n"
     ]
    }
   ],
   "source": [
    "# Factorial\n",
    "\n",
    "def Factorial (n:int):\n",
    "    if n == 1:\n",
    "        return 1\n",
    "    else:\n",
    "        return n * Factorial(n-1)\n",
    "    \n",
    "print(Factorial(4))"
   ]
  }
 ],
 "metadata": {
  "kernelspec": {
   "display_name": "Python 3",
   "language": "python",
   "name": "python3"
  },
  "language_info": {
   "codemirror_mode": {
    "name": "ipython",
    "version": 3
   },
   "file_extension": ".py",
   "mimetype": "text/x-python",
   "name": "python",
   "nbconvert_exporter": "python",
   "pygments_lexer": "ipython3",
   "version": "3.12.5"
  }
 },
 "nbformat": 4,
 "nbformat_minor": 2
}
